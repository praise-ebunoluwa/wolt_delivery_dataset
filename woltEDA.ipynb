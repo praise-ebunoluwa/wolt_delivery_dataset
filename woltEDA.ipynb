{
 "cells": [
  {
   "cell_type": "markdown",
   "id": "6723ccda-cd6c-45a3-9732-74cdca2c4af7",
   "metadata": {},
   "source": [
    "Importing the necessary libraries"
   ]
  },
  {
   "cell_type": "code",
   "execution_count": 1,
   "id": "42314dba-6d97-4d39-98a6-a5ca6d44f690",
   "metadata": {},
   "outputs": [],
   "source": [
    "import numpy as np\n",
    "import pandas as pd\n",
    "import matplotlib.pyplot as plt\n",
    "import seaborn as sns\n",
    "\n",
    "import warnings\n",
    "warnings.filterwarnings(\"ignore\")"
   ]
  },
  {
   "cell_type": "markdown",
   "id": "95685cc3-ab18-4dbf-9ee6-d8566d0f0720",
   "metadata": {},
   "source": [
    "Loading the dataset"
   ]
  },
  {
   "cell_type": "code",
   "execution_count": 2,
   "id": "0496e0cf-85ef-4dcd-bff5-4e9cfc1c0f27",
   "metadata": {},
   "outputs": [],
   "source": [
    "filename = r\"C:\\Users\\Praise\\Downloads\\dataset_for_datascience_assignment (1).csv\"\n",
    "df = pd.read_csv(filename)"
   ]
  },
  {
   "cell_type": "code",
   "execution_count": 3,
   "id": "54c6cf25-1af4-442f-9f44-ea455573dc31",
   "metadata": {},
   "outputs": [
    {
     "data": {
      "text/html": [
       "<div>\n",
       "<style scoped>\n",
       "    .dataframe tbody tr th:only-of-type {\n",
       "        vertical-align: middle;\n",
       "    }\n",
       "\n",
       "    .dataframe tbody tr th {\n",
       "        vertical-align: top;\n",
       "    }\n",
       "\n",
       "    .dataframe thead th {\n",
       "        text-align: right;\n",
       "    }\n",
       "</style>\n",
       "<table border=\"1\" class=\"dataframe\">\n",
       "  <thead>\n",
       "    <tr style=\"text-align: right;\">\n",
       "      <th></th>\n",
       "      <th>REGISTRATION_DATE</th>\n",
       "      <th>REGISTRATION_COUNTRY</th>\n",
       "      <th>PURCHASE_COUNT</th>\n",
       "      <th>PURCHASE_COUNT_DELIVERY</th>\n",
       "      <th>PURCHASE_COUNT_TAKEAWAY</th>\n",
       "      <th>FIRST_PURCHASE_DAY</th>\n",
       "      <th>LAST_PURCHASE_DAY</th>\n",
       "      <th>USER_ID</th>\n",
       "      <th>BREAKFAST_PURCHASES</th>\n",
       "      <th>LUNCH_PURCHASES</th>\n",
       "      <th>...</th>\n",
       "      <th>WEB_PURCHASES</th>\n",
       "      <th>ANDROID_PURCHASES</th>\n",
       "      <th>PREFERRED_RESTAURANT_TYPES</th>\n",
       "      <th>USER_HAS_VALID_PAYMENT_METHOD</th>\n",
       "      <th>MOST_COMMON_HOUR_OF_THE_DAY_TO_PURCHASE</th>\n",
       "      <th>MOST_COMMON_WEEKDAY_TO_PURCHASE</th>\n",
       "      <th>AVG_DAYS_BETWEEN_PURCHASES</th>\n",
       "      <th>MEDIAN_DAYS_BETWEEN_PURCHASES</th>\n",
       "      <th>AVERAGE_DELIVERY_DISTANCE_KMS</th>\n",
       "      <th>PURCHASE_COUNT_BY_STORE_TYPE</th>\n",
       "    </tr>\n",
       "  </thead>\n",
       "  <tbody>\n",
       "    <tr>\n",
       "      <th>0</th>\n",
       "      <td>2019-09-01 00:00:00.000</td>\n",
       "      <td>DNK</td>\n",
       "      <td>0</td>\n",
       "      <td>NaN</td>\n",
       "      <td>NaN</td>\n",
       "      <td>NaN</td>\n",
       "      <td>NaN</td>\n",
       "      <td>1</td>\n",
       "      <td>NaN</td>\n",
       "      <td>NaN</td>\n",
       "      <td>...</td>\n",
       "      <td>NaN</td>\n",
       "      <td>NaN</td>\n",
       "      <td>NaN</td>\n",
       "      <td>False</td>\n",
       "      <td>NaN</td>\n",
       "      <td>NaN</td>\n",
       "      <td>NaN</td>\n",
       "      <td>NaN</td>\n",
       "      <td>NaN</td>\n",
       "      <td>{\\n  \"General merchandise\": 0,\\n  \"Grocery\": 0...</td>\n",
       "    </tr>\n",
       "    <tr>\n",
       "      <th>1</th>\n",
       "      <td>2019-09-01 00:00:00.000</td>\n",
       "      <td>FIN</td>\n",
       "      <td>1</td>\n",
       "      <td>1.0</td>\n",
       "      <td>0.0</td>\n",
       "      <td>2020-09-02 00:00:00.000</td>\n",
       "      <td>2020-09-02 00:00:00.000</td>\n",
       "      <td>2</td>\n",
       "      <td>0.0</td>\n",
       "      <td>1.0</td>\n",
       "      <td>...</td>\n",
       "      <td>0.0</td>\n",
       "      <td>1.0</td>\n",
       "      <td>NaN</td>\n",
       "      <td>False</td>\n",
       "      <td>23.0</td>\n",
       "      <td>2.0</td>\n",
       "      <td>NaN</td>\n",
       "      <td>NaN</td>\n",
       "      <td>6.853</td>\n",
       "      <td>{\\n  \"General merchandise\": 0,\\n  \"Grocery\": 0...</td>\n",
       "    </tr>\n",
       "    <tr>\n",
       "      <th>2</th>\n",
       "      <td>2019-09-01 00:00:00.000</td>\n",
       "      <td>DNK</td>\n",
       "      <td>19</td>\n",
       "      <td>19.0</td>\n",
       "      <td>0.0</td>\n",
       "      <td>2019-12-10 00:00:00.000</td>\n",
       "      <td>2020-05-25 00:00:00.000</td>\n",
       "      <td>3</td>\n",
       "      <td>0.0</td>\n",
       "      <td>4.0</td>\n",
       "      <td>...</td>\n",
       "      <td>19.0</td>\n",
       "      <td>0.0</td>\n",
       "      <td>NaN</td>\n",
       "      <td>True</td>\n",
       "      <td>21.0</td>\n",
       "      <td>2.0</td>\n",
       "      <td>9.0</td>\n",
       "      <td>3.0</td>\n",
       "      <td>6.559</td>\n",
       "      <td>{\\n  \"General merchandise\": 1,\\n  \"Grocery\": 9...</td>\n",
       "    </tr>\n",
       "    <tr>\n",
       "      <th>3</th>\n",
       "      <td>2019-09-01 00:00:00.000</td>\n",
       "      <td>FIN</td>\n",
       "      <td>0</td>\n",
       "      <td>NaN</td>\n",
       "      <td>NaN</td>\n",
       "      <td>NaN</td>\n",
       "      <td>NaN</td>\n",
       "      <td>4</td>\n",
       "      <td>NaN</td>\n",
       "      <td>NaN</td>\n",
       "      <td>...</td>\n",
       "      <td>NaN</td>\n",
       "      <td>NaN</td>\n",
       "      <td>NaN</td>\n",
       "      <td>False</td>\n",
       "      <td>NaN</td>\n",
       "      <td>NaN</td>\n",
       "      <td>NaN</td>\n",
       "      <td>NaN</td>\n",
       "      <td>NaN</td>\n",
       "      <td>{\\n  \"General merchandise\": 0,\\n  \"Grocery\": 0...</td>\n",
       "    </tr>\n",
       "    <tr>\n",
       "      <th>4</th>\n",
       "      <td>2019-09-01 00:00:00.000</td>\n",
       "      <td>GRC</td>\n",
       "      <td>0</td>\n",
       "      <td>NaN</td>\n",
       "      <td>NaN</td>\n",
       "      <td>NaN</td>\n",
       "      <td>NaN</td>\n",
       "      <td>5</td>\n",
       "      <td>NaN</td>\n",
       "      <td>NaN</td>\n",
       "      <td>...</td>\n",
       "      <td>NaN</td>\n",
       "      <td>NaN</td>\n",
       "      <td>NaN</td>\n",
       "      <td>False</td>\n",
       "      <td>NaN</td>\n",
       "      <td>NaN</td>\n",
       "      <td>NaN</td>\n",
       "      <td>NaN</td>\n",
       "      <td>NaN</td>\n",
       "      <td>{\\n  \"General merchandise\": 0,\\n  \"Grocery\": 0...</td>\n",
       "    </tr>\n",
       "  </tbody>\n",
       "</table>\n",
       "<p>5 rows × 30 columns</p>\n",
       "</div>"
      ],
      "text/plain": [
       "         REGISTRATION_DATE REGISTRATION_COUNTRY  PURCHASE_COUNT  \\\n",
       "0  2019-09-01 00:00:00.000                  DNK               0   \n",
       "1  2019-09-01 00:00:00.000                  FIN               1   \n",
       "2  2019-09-01 00:00:00.000                  DNK              19   \n",
       "3  2019-09-01 00:00:00.000                  FIN               0   \n",
       "4  2019-09-01 00:00:00.000                  GRC               0   \n",
       "\n",
       "   PURCHASE_COUNT_DELIVERY  PURCHASE_COUNT_TAKEAWAY       FIRST_PURCHASE_DAY  \\\n",
       "0                      NaN                      NaN                      NaN   \n",
       "1                      1.0                      0.0  2020-09-02 00:00:00.000   \n",
       "2                     19.0                      0.0  2019-12-10 00:00:00.000   \n",
       "3                      NaN                      NaN                      NaN   \n",
       "4                      NaN                      NaN                      NaN   \n",
       "\n",
       "         LAST_PURCHASE_DAY  USER_ID  BREAKFAST_PURCHASES  LUNCH_PURCHASES  \\\n",
       "0                      NaN        1                  NaN              NaN   \n",
       "1  2020-09-02 00:00:00.000        2                  0.0              1.0   \n",
       "2  2020-05-25 00:00:00.000        3                  0.0              4.0   \n",
       "3                      NaN        4                  NaN              NaN   \n",
       "4                      NaN        5                  NaN              NaN   \n",
       "\n",
       "   ...  WEB_PURCHASES  ANDROID_PURCHASES  PREFERRED_RESTAURANT_TYPES  \\\n",
       "0  ...            NaN                NaN                         NaN   \n",
       "1  ...            0.0                1.0                         NaN   \n",
       "2  ...           19.0                0.0                         NaN   \n",
       "3  ...            NaN                NaN                         NaN   \n",
       "4  ...            NaN                NaN                         NaN   \n",
       "\n",
       "   USER_HAS_VALID_PAYMENT_METHOD  MOST_COMMON_HOUR_OF_THE_DAY_TO_PURCHASE  \\\n",
       "0                          False                                      NaN   \n",
       "1                          False                                     23.0   \n",
       "2                           True                                     21.0   \n",
       "3                          False                                      NaN   \n",
       "4                          False                                      NaN   \n",
       "\n",
       "   MOST_COMMON_WEEKDAY_TO_PURCHASE  AVG_DAYS_BETWEEN_PURCHASES  \\\n",
       "0                              NaN                         NaN   \n",
       "1                              2.0                         NaN   \n",
       "2                              2.0                         9.0   \n",
       "3                              NaN                         NaN   \n",
       "4                              NaN                         NaN   \n",
       "\n",
       "   MEDIAN_DAYS_BETWEEN_PURCHASES AVERAGE_DELIVERY_DISTANCE_KMS  \\\n",
       "0                            NaN                           NaN   \n",
       "1                            NaN                         6.853   \n",
       "2                            3.0                         6.559   \n",
       "3                            NaN                           NaN   \n",
       "4                            NaN                           NaN   \n",
       "\n",
       "                        PURCHASE_COUNT_BY_STORE_TYPE  \n",
       "0  {\\n  \"General merchandise\": 0,\\n  \"Grocery\": 0...  \n",
       "1  {\\n  \"General merchandise\": 0,\\n  \"Grocery\": 0...  \n",
       "2  {\\n  \"General merchandise\": 1,\\n  \"Grocery\": 9...  \n",
       "3  {\\n  \"General merchandise\": 0,\\n  \"Grocery\": 0...  \n",
       "4  {\\n  \"General merchandise\": 0,\\n  \"Grocery\": 0...  \n",
       "\n",
       "[5 rows x 30 columns]"
      ]
     },
     "execution_count": 3,
     "metadata": {},
     "output_type": "execute_result"
    }
   ],
   "source": [
    "df.head()"
   ]
  },
  {
   "cell_type": "code",
   "execution_count": 4,
   "id": "41fc5e75-87e1-4645-bc5b-fae34a7ee98b",
   "metadata": {},
   "outputs": [
    {
     "data": {
      "text/plain": [
       "(21983, 30)"
      ]
     },
     "execution_count": 4,
     "metadata": {},
     "output_type": "execute_result"
    }
   ],
   "source": [
    "df.shape"
   ]
  },
  {
   "cell_type": "markdown",
   "id": "95b957b7-cefd-4b6e-9797-5891c9971a9a",
   "metadata": {},
   "source": [
    "The dataset has 21983 rows and 30 columns"
   ]
  },
  {
   "cell_type": "code",
   "execution_count": 5,
   "id": "46287c03-647a-49ad-9347-b944cda33726",
   "metadata": {
    "scrolled": true
   },
   "outputs": [
    {
     "data": {
      "text/plain": [
       "REGISTRATION_DATE                              0\n",
       "REGISTRATION_COUNTRY                           0\n",
       "PURCHASE_COUNT                                 0\n",
       "PURCHASE_COUNT_DELIVERY                     9955\n",
       "PURCHASE_COUNT_TAKEAWAY                     9955\n",
       "FIRST_PURCHASE_DAY                         10019\n",
       "LAST_PURCHASE_DAY                           9956\n",
       "USER_ID                                        0\n",
       "BREAKFAST_PURCHASES                         9955\n",
       "LUNCH_PURCHASES                             9955\n",
       "EVENING_PURCHASES                           9955\n",
       "DINNER_PURCHASES                            9955\n",
       "LATE_NIGHT_PURCHASES                        9955\n",
       "TOTAL_PURCHASES_EUR                         9955\n",
       "DISTINCT_PURCHASE_VENUE_COUNT               9955\n",
       "MIN_PURCHASE_VALUE_EUR                      9955\n",
       "MAX_PURCHASE_VALUE_EUR                      9955\n",
       "AVG_PURCHASE_VALUE_EUR                      9955\n",
       "PREFERRED_DEVICE                              73\n",
       "IOS_PURCHASES                               9955\n",
       "WEB_PURCHASES                               9955\n",
       "ANDROID_PURCHASES                           9955\n",
       "PREFERRED_RESTAURANT_TYPES                 19289\n",
       "USER_HAS_VALID_PAYMENT_METHOD                  0\n",
       "MOST_COMMON_HOUR_OF_THE_DAY_TO_PURCHASE     9955\n",
       "MOST_COMMON_WEEKDAY_TO_PURCHASE             9955\n",
       "AVG_DAYS_BETWEEN_PURCHASES                 14151\n",
       "MEDIAN_DAYS_BETWEEN_PURCHASES              14151\n",
       "AVERAGE_DELIVERY_DISTANCE_KMS               9955\n",
       "PURCHASE_COUNT_BY_STORE_TYPE                   0\n",
       "dtype: int64"
      ]
     },
     "execution_count": 5,
     "metadata": {},
     "output_type": "execute_result"
    }
   ],
   "source": [
    "df.isnull().sum()"
   ]
  },
  {
   "cell_type": "markdown",
   "id": "0363d839-e622-4ddd-baf4-cb4d3ecc4300",
   "metadata": {},
   "source": [
    "There are plenty null values in our dataset."
   ]
  },
  {
   "cell_type": "code",
   "execution_count": 6,
   "id": "f0156766-c9b4-4aa6-a269-c10bc56b4d64",
   "metadata": {},
   "outputs": [],
   "source": [
    "new_df = df.dropna()"
   ]
  },
  {
   "cell_type": "code",
   "execution_count": 7,
   "id": "8020a897-cc3b-4918-9173-f99d101b560e",
   "metadata": {},
   "outputs": [
    {
     "data": {
      "text/plain": [
       "(2447, 30)"
      ]
     },
     "execution_count": 7,
     "metadata": {},
     "output_type": "execute_result"
    }
   ],
   "source": [
    "new_df.shape"
   ]
  },
  {
   "cell_type": "code",
   "execution_count": 8,
   "id": "075a7d8d-4e91-4cf2-8c64-fd41555ed9c4",
   "metadata": {},
   "outputs": [
    {
     "data": {
      "text/plain": [
       "0"
      ]
     },
     "execution_count": 8,
     "metadata": {},
     "output_type": "execute_result"
    }
   ],
   "source": [
    "#checking for duplicates in our dataset\n",
    "new_df.duplicated().sum()"
   ]
  },
  {
   "cell_type": "markdown",
   "id": "48a7e0ae-2847-4908-b8c2-027b95ece78d",
   "metadata": {},
   "source": [
    "we have zero duplicates in our dataset."
   ]
  },
  {
   "cell_type": "code",
   "execution_count": 9,
   "id": "e63eb057-5e0c-431e-9717-833dde2f1966",
   "metadata": {},
   "outputs": [
    {
     "data": {
      "text/plain": [
       "Index(['REGISTRATION_DATE', 'REGISTRATION_COUNTRY', 'PURCHASE_COUNT',\n",
       "       'PURCHASE_COUNT_DELIVERY', 'PURCHASE_COUNT_TAKEAWAY',\n",
       "       'FIRST_PURCHASE_DAY', 'LAST_PURCHASE_DAY', 'USER_ID',\n",
       "       'BREAKFAST_PURCHASES', 'LUNCH_PURCHASES', 'EVENING_PURCHASES',\n",
       "       'DINNER_PURCHASES', 'LATE_NIGHT_PURCHASES', 'TOTAL_PURCHASES_EUR',\n",
       "       'DISTINCT_PURCHASE_VENUE_COUNT', 'MIN_PURCHASE_VALUE_EUR',\n",
       "       'MAX_PURCHASE_VALUE_EUR', 'AVG_PURCHASE_VALUE_EUR', 'PREFERRED_DEVICE',\n",
       "       'IOS_PURCHASES', 'WEB_PURCHASES', 'ANDROID_PURCHASES',\n",
       "       'PREFERRED_RESTAURANT_TYPES', 'USER_HAS_VALID_PAYMENT_METHOD',\n",
       "       'MOST_COMMON_HOUR_OF_THE_DAY_TO_PURCHASE',\n",
       "       'MOST_COMMON_WEEKDAY_TO_PURCHASE', 'AVG_DAYS_BETWEEN_PURCHASES',\n",
       "       'MEDIAN_DAYS_BETWEEN_PURCHASES', 'AVERAGE_DELIVERY_DISTANCE_KMS',\n",
       "       'PURCHASE_COUNT_BY_STORE_TYPE'],\n",
       "      dtype='object')"
      ]
     },
     "execution_count": 9,
     "metadata": {},
     "output_type": "execute_result"
    }
   ],
   "source": [
    "#checking for the number of columns\n",
    "new_df.columns"
   ]
  },
  {
   "cell_type": "code",
   "execution_count": 10,
   "id": "ac453ee3-cab2-437f-b724-6dc0f780485c",
   "metadata": {},
   "outputs": [
    {
     "name": "stdout",
     "output_type": "stream",
     "text": [
      "<class 'pandas.core.frame.DataFrame'>\n",
      "Index: 2447 entries, 13 to 21969\n",
      "Data columns (total 30 columns):\n",
      " #   Column                                   Non-Null Count  Dtype  \n",
      "---  ------                                   --------------  -----  \n",
      " 0   REGISTRATION_DATE                        2447 non-null   object \n",
      " 1   REGISTRATION_COUNTRY                     2447 non-null   object \n",
      " 2   PURCHASE_COUNT                           2447 non-null   int64  \n",
      " 3   PURCHASE_COUNT_DELIVERY                  2447 non-null   float64\n",
      " 4   PURCHASE_COUNT_TAKEAWAY                  2447 non-null   float64\n",
      " 5   FIRST_PURCHASE_DAY                       2447 non-null   object \n",
      " 6   LAST_PURCHASE_DAY                        2447 non-null   object \n",
      " 7   USER_ID                                  2447 non-null   int64  \n",
      " 8   BREAKFAST_PURCHASES                      2447 non-null   float64\n",
      " 9   LUNCH_PURCHASES                          2447 non-null   float64\n",
      " 10  EVENING_PURCHASES                        2447 non-null   float64\n",
      " 11  DINNER_PURCHASES                         2447 non-null   float64\n",
      " 12  LATE_NIGHT_PURCHASES                     2447 non-null   float64\n",
      " 13  TOTAL_PURCHASES_EUR                      2447 non-null   float64\n",
      " 14  DISTINCT_PURCHASE_VENUE_COUNT            2447 non-null   float64\n",
      " 15  MIN_PURCHASE_VALUE_EUR                   2447 non-null   float64\n",
      " 16  MAX_PURCHASE_VALUE_EUR                   2447 non-null   float64\n",
      " 17  AVG_PURCHASE_VALUE_EUR                   2447 non-null   float64\n",
      " 18  PREFERRED_DEVICE                         2447 non-null   object \n",
      " 19  IOS_PURCHASES                            2447 non-null   float64\n",
      " 20  WEB_PURCHASES                            2447 non-null   float64\n",
      " 21  ANDROID_PURCHASES                        2447 non-null   float64\n",
      " 22  PREFERRED_RESTAURANT_TYPES               2447 non-null   object \n",
      " 23  USER_HAS_VALID_PAYMENT_METHOD            2447 non-null   bool   \n",
      " 24  MOST_COMMON_HOUR_OF_THE_DAY_TO_PURCHASE  2447 non-null   float64\n",
      " 25  MOST_COMMON_WEEKDAY_TO_PURCHASE          2447 non-null   float64\n",
      " 26  AVG_DAYS_BETWEEN_PURCHASES               2447 non-null   float64\n",
      " 27  MEDIAN_DAYS_BETWEEN_PURCHASES            2447 non-null   float64\n",
      " 28  AVERAGE_DELIVERY_DISTANCE_KMS            2447 non-null   float64\n",
      " 29  PURCHASE_COUNT_BY_STORE_TYPE             2447 non-null   object \n",
      "dtypes: bool(1), float64(20), int64(2), object(7)\n",
      "memory usage: 575.9+ KB\n"
     ]
    }
   ],
   "source": [
    "new_df.info()"
   ]
  },
  {
   "cell_type": "code",
   "execution_count": 11,
   "id": "fa77c0cf-0b11-4deb-a3f6-5c4166b1bc96",
   "metadata": {},
   "outputs": [
    {
     "data": {
      "text/html": [
       "<div>\n",
       "<style scoped>\n",
       "    .dataframe tbody tr th:only-of-type {\n",
       "        vertical-align: middle;\n",
       "    }\n",
       "\n",
       "    .dataframe tbody tr th {\n",
       "        vertical-align: top;\n",
       "    }\n",
       "\n",
       "    .dataframe thead th {\n",
       "        text-align: right;\n",
       "    }\n",
       "</style>\n",
       "<table border=\"1\" class=\"dataframe\">\n",
       "  <thead>\n",
       "    <tr style=\"text-align: right;\">\n",
       "      <th></th>\n",
       "      <th>PURCHASE_COUNT</th>\n",
       "      <th>PURCHASE_COUNT_DELIVERY</th>\n",
       "      <th>PURCHASE_COUNT_TAKEAWAY</th>\n",
       "      <th>USER_ID</th>\n",
       "      <th>BREAKFAST_PURCHASES</th>\n",
       "      <th>LUNCH_PURCHASES</th>\n",
       "      <th>EVENING_PURCHASES</th>\n",
       "      <th>DINNER_PURCHASES</th>\n",
       "      <th>LATE_NIGHT_PURCHASES</th>\n",
       "      <th>TOTAL_PURCHASES_EUR</th>\n",
       "      <th>...</th>\n",
       "      <th>MAX_PURCHASE_VALUE_EUR</th>\n",
       "      <th>AVG_PURCHASE_VALUE_EUR</th>\n",
       "      <th>IOS_PURCHASES</th>\n",
       "      <th>WEB_PURCHASES</th>\n",
       "      <th>ANDROID_PURCHASES</th>\n",
       "      <th>MOST_COMMON_HOUR_OF_THE_DAY_TO_PURCHASE</th>\n",
       "      <th>MOST_COMMON_WEEKDAY_TO_PURCHASE</th>\n",
       "      <th>AVG_DAYS_BETWEEN_PURCHASES</th>\n",
       "      <th>MEDIAN_DAYS_BETWEEN_PURCHASES</th>\n",
       "      <th>AVERAGE_DELIVERY_DISTANCE_KMS</th>\n",
       "    </tr>\n",
       "  </thead>\n",
       "  <tbody>\n",
       "    <tr>\n",
       "      <th>count</th>\n",
       "      <td>2447.000000</td>\n",
       "      <td>2447.000000</td>\n",
       "      <td>2447.000000</td>\n",
       "      <td>2447.000000</td>\n",
       "      <td>2447.000000</td>\n",
       "      <td>2447.000000</td>\n",
       "      <td>2447.000000</td>\n",
       "      <td>2447.000000</td>\n",
       "      <td>2447.0</td>\n",
       "      <td>2447.000000</td>\n",
       "      <td>...</td>\n",
       "      <td>2447.000000</td>\n",
       "      <td>2447.000000</td>\n",
       "      <td>2447.000000</td>\n",
       "      <td>2447.000000</td>\n",
       "      <td>2447.000000</td>\n",
       "      <td>2447.000000</td>\n",
       "      <td>2447.000000</td>\n",
       "      <td>2447.000000</td>\n",
       "      <td>2447.000000</td>\n",
       "      <td>2447.000000</td>\n",
       "    </tr>\n",
       "    <tr>\n",
       "      <th>mean</th>\n",
       "      <td>12.752350</td>\n",
       "      <td>11.925215</td>\n",
       "      <td>0.827135</td>\n",
       "      <td>10675.857785</td>\n",
       "      <td>0.317532</td>\n",
       "      <td>4.809971</td>\n",
       "      <td>0.783817</td>\n",
       "      <td>6.793216</td>\n",
       "      <td>0.0</td>\n",
       "      <td>393.167583</td>\n",
       "      <td>...</td>\n",
       "      <td>55.537873</td>\n",
       "      <td>32.733878</td>\n",
       "      <td>6.351859</td>\n",
       "      <td>2.378831</td>\n",
       "      <td>4.021659</td>\n",
       "      <td>11.635063</td>\n",
       "      <td>3.951369</td>\n",
       "      <td>48.469555</td>\n",
       "      <td>38.138946</td>\n",
       "      <td>5.892864</td>\n",
       "    </tr>\n",
       "    <tr>\n",
       "      <th>std</th>\n",
       "      <td>14.971463</td>\n",
       "      <td>14.671621</td>\n",
       "      <td>2.406882</td>\n",
       "      <td>6442.485691</td>\n",
       "      <td>1.246791</td>\n",
       "      <td>8.248061</td>\n",
       "      <td>2.011886</td>\n",
       "      <td>7.937753</td>\n",
       "      <td>0.0</td>\n",
       "      <td>474.296934</td>\n",
       "      <td>...</td>\n",
       "      <td>69.341232</td>\n",
       "      <td>17.779301</td>\n",
       "      <td>11.410572</td>\n",
       "      <td>7.543166</td>\n",
       "      <td>10.734281</td>\n",
       "      <td>6.951035</td>\n",
       "      <td>2.023898</td>\n",
       "      <td>53.778632</td>\n",
       "      <td>55.125156</td>\n",
       "      <td>3.507642</td>\n",
       "    </tr>\n",
       "    <tr>\n",
       "      <th>min</th>\n",
       "      <td>2.000000</td>\n",
       "      <td>0.000000</td>\n",
       "      <td>0.000000</td>\n",
       "      <td>14.000000</td>\n",
       "      <td>0.000000</td>\n",
       "      <td>0.000000</td>\n",
       "      <td>0.000000</td>\n",
       "      <td>0.000000</td>\n",
       "      <td>0.0</td>\n",
       "      <td>23.276000</td>\n",
       "      <td>...</td>\n",
       "      <td>9.144000</td>\n",
       "      <td>7.084000</td>\n",
       "      <td>0.000000</td>\n",
       "      <td>0.000000</td>\n",
       "      <td>0.000000</td>\n",
       "      <td>0.000000</td>\n",
       "      <td>1.000000</td>\n",
       "      <td>0.000000</td>\n",
       "      <td>0.000000</td>\n",
       "      <td>0.002000</td>\n",
       "    </tr>\n",
       "    <tr>\n",
       "      <th>25%</th>\n",
       "      <td>4.000000</td>\n",
       "      <td>4.000000</td>\n",
       "      <td>0.000000</td>\n",
       "      <td>5127.500000</td>\n",
       "      <td>0.000000</td>\n",
       "      <td>1.000000</td>\n",
       "      <td>0.000000</td>\n",
       "      <td>2.000000</td>\n",
       "      <td>0.0</td>\n",
       "      <td>132.572000</td>\n",
       "      <td>...</td>\n",
       "      <td>34.544000</td>\n",
       "      <td>23.276000</td>\n",
       "      <td>0.000000</td>\n",
       "      <td>0.000000</td>\n",
       "      <td>0.000000</td>\n",
       "      <td>6.000000</td>\n",
       "      <td>2.000000</td>\n",
       "      <td>16.000000</td>\n",
       "      <td>8.000000</td>\n",
       "      <td>2.876500</td>\n",
       "    </tr>\n",
       "    <tr>\n",
       "      <th>50%</th>\n",
       "      <td>8.000000</td>\n",
       "      <td>7.000000</td>\n",
       "      <td>0.000000</td>\n",
       "      <td>10309.000000</td>\n",
       "      <td>0.000000</td>\n",
       "      <td>2.000000</td>\n",
       "      <td>0.000000</td>\n",
       "      <td>4.000000</td>\n",
       "      <td>0.0</td>\n",
       "      <td>248.952000</td>\n",
       "      <td>...</td>\n",
       "      <td>46.736000</td>\n",
       "      <td>29.348000</td>\n",
       "      <td>2.000000</td>\n",
       "      <td>0.000000</td>\n",
       "      <td>0.000000</td>\n",
       "      <td>12.000000</td>\n",
       "      <td>4.000000</td>\n",
       "      <td>32.000000</td>\n",
       "      <td>18.000000</td>\n",
       "      <td>5.790000</td>\n",
       "    </tr>\n",
       "    <tr>\n",
       "      <th>75%</th>\n",
       "      <td>16.000000</td>\n",
       "      <td>15.000000</td>\n",
       "      <td>1.000000</td>\n",
       "      <td>16389.500000</td>\n",
       "      <td>0.000000</td>\n",
       "      <td>6.000000</td>\n",
       "      <td>1.000000</td>\n",
       "      <td>9.000000</td>\n",
       "      <td>0.0</td>\n",
       "      <td>486.266000</td>\n",
       "      <td>...</td>\n",
       "      <td>65.024000</td>\n",
       "      <td>38.456000</td>\n",
       "      <td>8.000000</td>\n",
       "      <td>1.000000</td>\n",
       "      <td>4.000000</td>\n",
       "      <td>18.000000</td>\n",
       "      <td>6.000000</td>\n",
       "      <td>60.000000</td>\n",
       "      <td>42.000000</td>\n",
       "      <td>8.983000</td>\n",
       "    </tr>\n",
       "    <tr>\n",
       "      <th>max</th>\n",
       "      <td>221.000000</td>\n",
       "      <td>221.000000</td>\n",
       "      <td>44.000000</td>\n",
       "      <td>21970.000000</td>\n",
       "      <td>32.000000</td>\n",
       "      <td>110.000000</td>\n",
       "      <td>35.000000</td>\n",
       "      <td>104.000000</td>\n",
       "      <td>0.0</td>\n",
       "      <td>7979.620000</td>\n",
       "      <td>...</td>\n",
       "      <td>3048.000000</td>\n",
       "      <td>569.756000</td>\n",
       "      <td>200.000000</td>\n",
       "      <td>111.000000</td>\n",
       "      <td>221.000000</td>\n",
       "      <td>23.000000</td>\n",
       "      <td>7.000000</td>\n",
       "      <td>417.000000</td>\n",
       "      <td>417.000000</td>\n",
       "      <td>11.995000</td>\n",
       "    </tr>\n",
       "  </tbody>\n",
       "</table>\n",
       "<p>8 rows × 22 columns</p>\n",
       "</div>"
      ],
      "text/plain": [
       "       PURCHASE_COUNT  PURCHASE_COUNT_DELIVERY  PURCHASE_COUNT_TAKEAWAY  \\\n",
       "count     2447.000000              2447.000000              2447.000000   \n",
       "mean        12.752350                11.925215                 0.827135   \n",
       "std         14.971463                14.671621                 2.406882   \n",
       "min          2.000000                 0.000000                 0.000000   \n",
       "25%          4.000000                 4.000000                 0.000000   \n",
       "50%          8.000000                 7.000000                 0.000000   \n",
       "75%         16.000000                15.000000                 1.000000   \n",
       "max        221.000000               221.000000                44.000000   \n",
       "\n",
       "            USER_ID  BREAKFAST_PURCHASES  LUNCH_PURCHASES  EVENING_PURCHASES  \\\n",
       "count   2447.000000          2447.000000      2447.000000        2447.000000   \n",
       "mean   10675.857785             0.317532         4.809971           0.783817   \n",
       "std     6442.485691             1.246791         8.248061           2.011886   \n",
       "min       14.000000             0.000000         0.000000           0.000000   \n",
       "25%     5127.500000             0.000000         1.000000           0.000000   \n",
       "50%    10309.000000             0.000000         2.000000           0.000000   \n",
       "75%    16389.500000             0.000000         6.000000           1.000000   \n",
       "max    21970.000000            32.000000       110.000000          35.000000   \n",
       "\n",
       "       DINNER_PURCHASES  LATE_NIGHT_PURCHASES  TOTAL_PURCHASES_EUR  ...  \\\n",
       "count       2447.000000                2447.0          2447.000000  ...   \n",
       "mean           6.793216                   0.0           393.167583  ...   \n",
       "std            7.937753                   0.0           474.296934  ...   \n",
       "min            0.000000                   0.0            23.276000  ...   \n",
       "25%            2.000000                   0.0           132.572000  ...   \n",
       "50%            4.000000                   0.0           248.952000  ...   \n",
       "75%            9.000000                   0.0           486.266000  ...   \n",
       "max          104.000000                   0.0          7979.620000  ...   \n",
       "\n",
       "       MAX_PURCHASE_VALUE_EUR  AVG_PURCHASE_VALUE_EUR  IOS_PURCHASES  \\\n",
       "count             2447.000000             2447.000000    2447.000000   \n",
       "mean                55.537873               32.733878       6.351859   \n",
       "std                 69.341232               17.779301      11.410572   \n",
       "min                  9.144000                7.084000       0.000000   \n",
       "25%                 34.544000               23.276000       0.000000   \n",
       "50%                 46.736000               29.348000       2.000000   \n",
       "75%                 65.024000               38.456000       8.000000   \n",
       "max               3048.000000              569.756000     200.000000   \n",
       "\n",
       "       WEB_PURCHASES  ANDROID_PURCHASES  \\\n",
       "count    2447.000000        2447.000000   \n",
       "mean        2.378831           4.021659   \n",
       "std         7.543166          10.734281   \n",
       "min         0.000000           0.000000   \n",
       "25%         0.000000           0.000000   \n",
       "50%         0.000000           0.000000   \n",
       "75%         1.000000           4.000000   \n",
       "max       111.000000         221.000000   \n",
       "\n",
       "       MOST_COMMON_HOUR_OF_THE_DAY_TO_PURCHASE  \\\n",
       "count                              2447.000000   \n",
       "mean                                 11.635063   \n",
       "std                                   6.951035   \n",
       "min                                   0.000000   \n",
       "25%                                   6.000000   \n",
       "50%                                  12.000000   \n",
       "75%                                  18.000000   \n",
       "max                                  23.000000   \n",
       "\n",
       "       MOST_COMMON_WEEKDAY_TO_PURCHASE  AVG_DAYS_BETWEEN_PURCHASES  \\\n",
       "count                      2447.000000                 2447.000000   \n",
       "mean                          3.951369                   48.469555   \n",
       "std                           2.023898                   53.778632   \n",
       "min                           1.000000                    0.000000   \n",
       "25%                           2.000000                   16.000000   \n",
       "50%                           4.000000                   32.000000   \n",
       "75%                           6.000000                   60.000000   \n",
       "max                           7.000000                  417.000000   \n",
       "\n",
       "       MEDIAN_DAYS_BETWEEN_PURCHASES  AVERAGE_DELIVERY_DISTANCE_KMS  \n",
       "count                    2447.000000                    2447.000000  \n",
       "mean                       38.138946                       5.892864  \n",
       "std                        55.125156                       3.507642  \n",
       "min                         0.000000                       0.002000  \n",
       "25%                         8.000000                       2.876500  \n",
       "50%                        18.000000                       5.790000  \n",
       "75%                        42.000000                       8.983000  \n",
       "max                       417.000000                      11.995000  \n",
       "\n",
       "[8 rows x 22 columns]"
      ]
     },
     "execution_count": 11,
     "metadata": {},
     "output_type": "execute_result"
    }
   ],
   "source": [
    "#checking for the statistics of the data.\n",
    "new_df.describe()"
   ]
  },
  {
   "cell_type": "code",
   "execution_count": 12,
   "id": "d8dffb93-c4d8-4413-a420-f8f7d95cfb28",
   "metadata": {},
   "outputs": [],
   "source": [
    "#EDA"
   ]
  },
  {
   "cell_type": "code",
   "execution_count": 13,
   "id": "e1f70bd4-a4eb-4b85-a32b-8af3d95f2e71",
   "metadata": {},
   "outputs": [
    {
     "data": {
      "text/html": [
       "<div>\n",
       "<style scoped>\n",
       "    .dataframe tbody tr th:only-of-type {\n",
       "        vertical-align: middle;\n",
       "    }\n",
       "\n",
       "    .dataframe tbody tr th {\n",
       "        vertical-align: top;\n",
       "    }\n",
       "\n",
       "    .dataframe thead th {\n",
       "        text-align: right;\n",
       "    }\n",
       "</style>\n",
       "<table border=\"1\" class=\"dataframe\">\n",
       "  <thead>\n",
       "    <tr style=\"text-align: right;\">\n",
       "      <th></th>\n",
       "      <th>REGISTRATION_DATE</th>\n",
       "      <th>REGISTRATION_COUNTRY</th>\n",
       "      <th>PURCHASE_COUNT</th>\n",
       "      <th>PURCHASE_COUNT_DELIVERY</th>\n",
       "      <th>PURCHASE_COUNT_TAKEAWAY</th>\n",
       "      <th>FIRST_PURCHASE_DAY</th>\n",
       "      <th>LAST_PURCHASE_DAY</th>\n",
       "      <th>USER_ID</th>\n",
       "      <th>BREAKFAST_PURCHASES</th>\n",
       "      <th>LUNCH_PURCHASES</th>\n",
       "      <th>...</th>\n",
       "      <th>WEB_PURCHASES</th>\n",
       "      <th>ANDROID_PURCHASES</th>\n",
       "      <th>PREFERRED_RESTAURANT_TYPES</th>\n",
       "      <th>USER_HAS_VALID_PAYMENT_METHOD</th>\n",
       "      <th>MOST_COMMON_HOUR_OF_THE_DAY_TO_PURCHASE</th>\n",
       "      <th>MOST_COMMON_WEEKDAY_TO_PURCHASE</th>\n",
       "      <th>AVG_DAYS_BETWEEN_PURCHASES</th>\n",
       "      <th>MEDIAN_DAYS_BETWEEN_PURCHASES</th>\n",
       "      <th>AVERAGE_DELIVERY_DISTANCE_KMS</th>\n",
       "      <th>PURCHASE_COUNT_BY_STORE_TYPE</th>\n",
       "    </tr>\n",
       "  </thead>\n",
       "  <tbody>\n",
       "    <tr>\n",
       "      <th>13</th>\n",
       "      <td>2019-09-01 00:00:00.000</td>\n",
       "      <td>FIN</td>\n",
       "      <td>2</td>\n",
       "      <td>2.0</td>\n",
       "      <td>0.0</td>\n",
       "      <td>2020-08-21 00:00:00.000</td>\n",
       "      <td>2020-09-09 00:00:00.000</td>\n",
       "      <td>14</td>\n",
       "      <td>0.0</td>\n",
       "      <td>1.0</td>\n",
       "      <td>...</td>\n",
       "      <td>0.0</td>\n",
       "      <td>2.0</td>\n",
       "      <td>[\\n  \"american\"\\n]</td>\n",
       "      <td>False</td>\n",
       "      <td>5.0</td>\n",
       "      <td>6.0</td>\n",
       "      <td>19.0</td>\n",
       "      <td>19.0</td>\n",
       "      <td>1.382</td>\n",
       "      <td>{\\n  \"General merchandise\": 0,\\n  \"Grocery\": 0...</td>\n",
       "    </tr>\n",
       "    <tr>\n",
       "      <th>16</th>\n",
       "      <td>2019-09-01 00:00:00.000</td>\n",
       "      <td>FIN</td>\n",
       "      <td>7</td>\n",
       "      <td>5.0</td>\n",
       "      <td>2.0</td>\n",
       "      <td>2019-12-05 00:00:00.000</td>\n",
       "      <td>2020-10-31 00:00:00.000</td>\n",
       "      <td>17</td>\n",
       "      <td>0.0</td>\n",
       "      <td>5.0</td>\n",
       "      <td>...</td>\n",
       "      <td>0.0</td>\n",
       "      <td>7.0</td>\n",
       "      <td>[\\n  \"american\"\\n]</td>\n",
       "      <td>True</td>\n",
       "      <td>10.0</td>\n",
       "      <td>1.0</td>\n",
       "      <td>55.0</td>\n",
       "      <td>56.0</td>\n",
       "      <td>4.903</td>\n",
       "      <td>{\\n  \"General merchandise\": 1,\\n  \"Grocery\": 3...</td>\n",
       "    </tr>\n",
       "    <tr>\n",
       "      <th>17</th>\n",
       "      <td>2019-09-01 00:00:00.000</td>\n",
       "      <td>DNK</td>\n",
       "      <td>2</td>\n",
       "      <td>2.0</td>\n",
       "      <td>0.0</td>\n",
       "      <td>2019-09-05 00:00:00.000</td>\n",
       "      <td>2020-05-16 00:00:00.000</td>\n",
       "      <td>18</td>\n",
       "      <td>0.0</td>\n",
       "      <td>0.0</td>\n",
       "      <td>...</td>\n",
       "      <td>0.0</td>\n",
       "      <td>0.0</td>\n",
       "      <td>[\\n  \"japanese\"\\n]</td>\n",
       "      <td>True</td>\n",
       "      <td>7.0</td>\n",
       "      <td>2.0</td>\n",
       "      <td>254.0</td>\n",
       "      <td>254.0</td>\n",
       "      <td>8.324</td>\n",
       "      <td>{\\n  \"General merchandise\": 0,\\n  \"Grocery\": 0...</td>\n",
       "    </tr>\n",
       "    <tr>\n",
       "      <th>26</th>\n",
       "      <td>2019-09-01 00:00:00.000</td>\n",
       "      <td>FIN</td>\n",
       "      <td>6</td>\n",
       "      <td>6.0</td>\n",
       "      <td>0.0</td>\n",
       "      <td>2020-02-02 00:00:00.000</td>\n",
       "      <td>2020-10-18 00:00:00.000</td>\n",
       "      <td>27</td>\n",
       "      <td>0.0</td>\n",
       "      <td>2.0</td>\n",
       "      <td>...</td>\n",
       "      <td>0.0</td>\n",
       "      <td>0.0</td>\n",
       "      <td>[\\n  \"italian\"\\n]</td>\n",
       "      <td>True</td>\n",
       "      <td>0.0</td>\n",
       "      <td>2.0</td>\n",
       "      <td>52.0</td>\n",
       "      <td>58.0</td>\n",
       "      <td>4.506</td>\n",
       "      <td>{\\n  \"General merchandise\": 0,\\n  \"Grocery\": 0...</td>\n",
       "    </tr>\n",
       "    <tr>\n",
       "      <th>31</th>\n",
       "      <td>2019-09-01 00:00:00.000</td>\n",
       "      <td>LVA</td>\n",
       "      <td>33</td>\n",
       "      <td>32.0</td>\n",
       "      <td>1.0</td>\n",
       "      <td>2019-09-13 00:00:00.000</td>\n",
       "      <td>2020-10-29 00:00:00.000</td>\n",
       "      <td>32</td>\n",
       "      <td>0.0</td>\n",
       "      <td>7.0</td>\n",
       "      <td>...</td>\n",
       "      <td>0.0</td>\n",
       "      <td>0.0</td>\n",
       "      <td>[\\n  \"american\"\\n]</td>\n",
       "      <td>True</td>\n",
       "      <td>23.0</td>\n",
       "      <td>2.0</td>\n",
       "      <td>13.0</td>\n",
       "      <td>2.0</td>\n",
       "      <td>6.747</td>\n",
       "      <td>{\\n  \"General merchandise\": 0,\\n  \"Grocery\": 1...</td>\n",
       "    </tr>\n",
       "  </tbody>\n",
       "</table>\n",
       "<p>5 rows × 30 columns</p>\n",
       "</div>"
      ],
      "text/plain": [
       "          REGISTRATION_DATE REGISTRATION_COUNTRY  PURCHASE_COUNT  \\\n",
       "13  2019-09-01 00:00:00.000                  FIN               2   \n",
       "16  2019-09-01 00:00:00.000                  FIN               7   \n",
       "17  2019-09-01 00:00:00.000                  DNK               2   \n",
       "26  2019-09-01 00:00:00.000                  FIN               6   \n",
       "31  2019-09-01 00:00:00.000                  LVA              33   \n",
       "\n",
       "    PURCHASE_COUNT_DELIVERY  PURCHASE_COUNT_TAKEAWAY       FIRST_PURCHASE_DAY  \\\n",
       "13                      2.0                      0.0  2020-08-21 00:00:00.000   \n",
       "16                      5.0                      2.0  2019-12-05 00:00:00.000   \n",
       "17                      2.0                      0.0  2019-09-05 00:00:00.000   \n",
       "26                      6.0                      0.0  2020-02-02 00:00:00.000   \n",
       "31                     32.0                      1.0  2019-09-13 00:00:00.000   \n",
       "\n",
       "          LAST_PURCHASE_DAY  USER_ID  BREAKFAST_PURCHASES  LUNCH_PURCHASES  \\\n",
       "13  2020-09-09 00:00:00.000       14                  0.0              1.0   \n",
       "16  2020-10-31 00:00:00.000       17                  0.0              5.0   \n",
       "17  2020-05-16 00:00:00.000       18                  0.0              0.0   \n",
       "26  2020-10-18 00:00:00.000       27                  0.0              2.0   \n",
       "31  2020-10-29 00:00:00.000       32                  0.0              7.0   \n",
       "\n",
       "    ...  WEB_PURCHASES  ANDROID_PURCHASES  PREFERRED_RESTAURANT_TYPES  \\\n",
       "13  ...            0.0                2.0          [\\n  \"american\"\\n]   \n",
       "16  ...            0.0                7.0          [\\n  \"american\"\\n]   \n",
       "17  ...            0.0                0.0          [\\n  \"japanese\"\\n]   \n",
       "26  ...            0.0                0.0           [\\n  \"italian\"\\n]   \n",
       "31  ...            0.0                0.0          [\\n  \"american\"\\n]   \n",
       "\n",
       "    USER_HAS_VALID_PAYMENT_METHOD  MOST_COMMON_HOUR_OF_THE_DAY_TO_PURCHASE  \\\n",
       "13                          False                                      5.0   \n",
       "16                           True                                     10.0   \n",
       "17                           True                                      7.0   \n",
       "26                           True                                      0.0   \n",
       "31                           True                                     23.0   \n",
       "\n",
       "    MOST_COMMON_WEEKDAY_TO_PURCHASE  AVG_DAYS_BETWEEN_PURCHASES  \\\n",
       "13                              6.0                        19.0   \n",
       "16                              1.0                        55.0   \n",
       "17                              2.0                       254.0   \n",
       "26                              2.0                        52.0   \n",
       "31                              2.0                        13.0   \n",
       "\n",
       "    MEDIAN_DAYS_BETWEEN_PURCHASES AVERAGE_DELIVERY_DISTANCE_KMS  \\\n",
       "13                           19.0                         1.382   \n",
       "16                           56.0                         4.903   \n",
       "17                          254.0                         8.324   \n",
       "26                           58.0                         4.506   \n",
       "31                            2.0                         6.747   \n",
       "\n",
       "                         PURCHASE_COUNT_BY_STORE_TYPE  \n",
       "13  {\\n  \"General merchandise\": 0,\\n  \"Grocery\": 0...  \n",
       "16  {\\n  \"General merchandise\": 1,\\n  \"Grocery\": 3...  \n",
       "17  {\\n  \"General merchandise\": 0,\\n  \"Grocery\": 0...  \n",
       "26  {\\n  \"General merchandise\": 0,\\n  \"Grocery\": 0...  \n",
       "31  {\\n  \"General merchandise\": 0,\\n  \"Grocery\": 1...  \n",
       "\n",
       "[5 rows x 30 columns]"
      ]
     },
     "execution_count": 13,
     "metadata": {},
     "output_type": "execute_result"
    }
   ],
   "source": [
    "new_df.head()"
   ]
  },
  {
   "cell_type": "code",
   "execution_count": 14,
   "id": "ecb77119-d08e-4046-a4e6-0d74c70d2d3b",
   "metadata": {},
   "outputs": [
    {
     "data": {
      "text/html": [
       "<div>\n",
       "<style scoped>\n",
       "    .dataframe tbody tr th:only-of-type {\n",
       "        vertical-align: middle;\n",
       "    }\n",
       "\n",
       "    .dataframe tbody tr th {\n",
       "        vertical-align: top;\n",
       "    }\n",
       "\n",
       "    .dataframe thead th {\n",
       "        text-align: right;\n",
       "    }\n",
       "</style>\n",
       "<table border=\"1\" class=\"dataframe\">\n",
       "  <thead>\n",
       "    <tr style=\"text-align: right;\">\n",
       "      <th></th>\n",
       "      <th>REGISTRATION_DATE</th>\n",
       "      <th>REGISTRATION_COUNTRY</th>\n",
       "      <th>PURCHASE_COUNT</th>\n",
       "      <th>PURCHASE_COUNT_DELIVERY</th>\n",
       "      <th>PURCHASE_COUNT_TAKEAWAY</th>\n",
       "      <th>FIRST_PURCHASE_DAY</th>\n",
       "      <th>LAST_PURCHASE_DAY</th>\n",
       "      <th>USER_ID</th>\n",
       "      <th>BREAKFAST_PURCHASES</th>\n",
       "      <th>LUNCH_PURCHASES</th>\n",
       "      <th>...</th>\n",
       "      <th>WEB_PURCHASES</th>\n",
       "      <th>ANDROID_PURCHASES</th>\n",
       "      <th>PREFERRED_RESTAURANT_TYPES</th>\n",
       "      <th>USER_HAS_VALID_PAYMENT_METHOD</th>\n",
       "      <th>MOST_COMMON_HOUR_OF_THE_DAY_TO_PURCHASE</th>\n",
       "      <th>MOST_COMMON_WEEKDAY_TO_PURCHASE</th>\n",
       "      <th>AVG_DAYS_BETWEEN_PURCHASES</th>\n",
       "      <th>MEDIAN_DAYS_BETWEEN_PURCHASES</th>\n",
       "      <th>AVERAGE_DELIVERY_DISTANCE_KMS</th>\n",
       "      <th>PURCHASE_COUNT_BY_STORE_TYPE</th>\n",
       "    </tr>\n",
       "  </thead>\n",
       "  <tbody>\n",
       "    <tr>\n",
       "      <th>13</th>\n",
       "      <td>2019-09-01 00:00:00.000</td>\n",
       "      <td>FIN</td>\n",
       "      <td>2</td>\n",
       "      <td>2.0</td>\n",
       "      <td>0.0</td>\n",
       "      <td>2020-08-21 00:00:00.000</td>\n",
       "      <td>2020-09-09 00:00:00.000</td>\n",
       "      <td>14</td>\n",
       "      <td>0.0</td>\n",
       "      <td>1.0</td>\n",
       "      <td>...</td>\n",
       "      <td>0.0</td>\n",
       "      <td>2.0</td>\n",
       "      <td>[\\n  \"american\"\\n]</td>\n",
       "      <td>False</td>\n",
       "      <td>5.0</td>\n",
       "      <td>6.0</td>\n",
       "      <td>19.0</td>\n",
       "      <td>19.0</td>\n",
       "      <td>1.382</td>\n",
       "      <td>{\\n  \"General merchandise\": 0,\\n  \"Grocery\": 0...</td>\n",
       "    </tr>\n",
       "    <tr>\n",
       "      <th>16</th>\n",
       "      <td>2019-09-01 00:00:00.000</td>\n",
       "      <td>FIN</td>\n",
       "      <td>7</td>\n",
       "      <td>5.0</td>\n",
       "      <td>2.0</td>\n",
       "      <td>2019-12-05 00:00:00.000</td>\n",
       "      <td>2020-10-31 00:00:00.000</td>\n",
       "      <td>17</td>\n",
       "      <td>0.0</td>\n",
       "      <td>5.0</td>\n",
       "      <td>...</td>\n",
       "      <td>0.0</td>\n",
       "      <td>7.0</td>\n",
       "      <td>[\\n  \"american\"\\n]</td>\n",
       "      <td>True</td>\n",
       "      <td>10.0</td>\n",
       "      <td>1.0</td>\n",
       "      <td>55.0</td>\n",
       "      <td>56.0</td>\n",
       "      <td>4.903</td>\n",
       "      <td>{\\n  \"General merchandise\": 1,\\n  \"Grocery\": 3...</td>\n",
       "    </tr>\n",
       "    <tr>\n",
       "      <th>17</th>\n",
       "      <td>2019-09-01 00:00:00.000</td>\n",
       "      <td>DNK</td>\n",
       "      <td>2</td>\n",
       "      <td>2.0</td>\n",
       "      <td>0.0</td>\n",
       "      <td>2019-09-05 00:00:00.000</td>\n",
       "      <td>2020-05-16 00:00:00.000</td>\n",
       "      <td>18</td>\n",
       "      <td>0.0</td>\n",
       "      <td>0.0</td>\n",
       "      <td>...</td>\n",
       "      <td>0.0</td>\n",
       "      <td>0.0</td>\n",
       "      <td>[\\n  \"japanese\"\\n]</td>\n",
       "      <td>True</td>\n",
       "      <td>7.0</td>\n",
       "      <td>2.0</td>\n",
       "      <td>254.0</td>\n",
       "      <td>254.0</td>\n",
       "      <td>8.324</td>\n",
       "      <td>{\\n  \"General merchandise\": 0,\\n  \"Grocery\": 0...</td>\n",
       "    </tr>\n",
       "    <tr>\n",
       "      <th>26</th>\n",
       "      <td>2019-09-01 00:00:00.000</td>\n",
       "      <td>FIN</td>\n",
       "      <td>6</td>\n",
       "      <td>6.0</td>\n",
       "      <td>0.0</td>\n",
       "      <td>2020-02-02 00:00:00.000</td>\n",
       "      <td>2020-10-18 00:00:00.000</td>\n",
       "      <td>27</td>\n",
       "      <td>0.0</td>\n",
       "      <td>2.0</td>\n",
       "      <td>...</td>\n",
       "      <td>0.0</td>\n",
       "      <td>0.0</td>\n",
       "      <td>[\\n  \"italian\"\\n]</td>\n",
       "      <td>True</td>\n",
       "      <td>0.0</td>\n",
       "      <td>2.0</td>\n",
       "      <td>52.0</td>\n",
       "      <td>58.0</td>\n",
       "      <td>4.506</td>\n",
       "      <td>{\\n  \"General merchandise\": 0,\\n  \"Grocery\": 0...</td>\n",
       "    </tr>\n",
       "    <tr>\n",
       "      <th>31</th>\n",
       "      <td>2019-09-01 00:00:00.000</td>\n",
       "      <td>LVA</td>\n",
       "      <td>33</td>\n",
       "      <td>32.0</td>\n",
       "      <td>1.0</td>\n",
       "      <td>2019-09-13 00:00:00.000</td>\n",
       "      <td>2020-10-29 00:00:00.000</td>\n",
       "      <td>32</td>\n",
       "      <td>0.0</td>\n",
       "      <td>7.0</td>\n",
       "      <td>...</td>\n",
       "      <td>0.0</td>\n",
       "      <td>0.0</td>\n",
       "      <td>[\\n  \"american\"\\n]</td>\n",
       "      <td>True</td>\n",
       "      <td>23.0</td>\n",
       "      <td>2.0</td>\n",
       "      <td>13.0</td>\n",
       "      <td>2.0</td>\n",
       "      <td>6.747</td>\n",
       "      <td>{\\n  \"General merchandise\": 0,\\n  \"Grocery\": 1...</td>\n",
       "    </tr>\n",
       "  </tbody>\n",
       "</table>\n",
       "<p>5 rows × 30 columns</p>\n",
       "</div>"
      ],
      "text/plain": [
       "          REGISTRATION_DATE REGISTRATION_COUNTRY  PURCHASE_COUNT  \\\n",
       "13  2019-09-01 00:00:00.000                  FIN               2   \n",
       "16  2019-09-01 00:00:00.000                  FIN               7   \n",
       "17  2019-09-01 00:00:00.000                  DNK               2   \n",
       "26  2019-09-01 00:00:00.000                  FIN               6   \n",
       "31  2019-09-01 00:00:00.000                  LVA              33   \n",
       "\n",
       "    PURCHASE_COUNT_DELIVERY  PURCHASE_COUNT_TAKEAWAY       FIRST_PURCHASE_DAY  \\\n",
       "13                      2.0                      0.0  2020-08-21 00:00:00.000   \n",
       "16                      5.0                      2.0  2019-12-05 00:00:00.000   \n",
       "17                      2.0                      0.0  2019-09-05 00:00:00.000   \n",
       "26                      6.0                      0.0  2020-02-02 00:00:00.000   \n",
       "31                     32.0                      1.0  2019-09-13 00:00:00.000   \n",
       "\n",
       "          LAST_PURCHASE_DAY  USER_ID  BREAKFAST_PURCHASES  LUNCH_PURCHASES  \\\n",
       "13  2020-09-09 00:00:00.000       14                  0.0              1.0   \n",
       "16  2020-10-31 00:00:00.000       17                  0.0              5.0   \n",
       "17  2020-05-16 00:00:00.000       18                  0.0              0.0   \n",
       "26  2020-10-18 00:00:00.000       27                  0.0              2.0   \n",
       "31  2020-10-29 00:00:00.000       32                  0.0              7.0   \n",
       "\n",
       "    ...  WEB_PURCHASES  ANDROID_PURCHASES  PREFERRED_RESTAURANT_TYPES  \\\n",
       "13  ...            0.0                2.0          [\\n  \"american\"\\n]   \n",
       "16  ...            0.0                7.0          [\\n  \"american\"\\n]   \n",
       "17  ...            0.0                0.0          [\\n  \"japanese\"\\n]   \n",
       "26  ...            0.0                0.0           [\\n  \"italian\"\\n]   \n",
       "31  ...            0.0                0.0          [\\n  \"american\"\\n]   \n",
       "\n",
       "    USER_HAS_VALID_PAYMENT_METHOD  MOST_COMMON_HOUR_OF_THE_DAY_TO_PURCHASE  \\\n",
       "13                          False                                      5.0   \n",
       "16                           True                                     10.0   \n",
       "17                           True                                      7.0   \n",
       "26                           True                                      0.0   \n",
       "31                           True                                     23.0   \n",
       "\n",
       "    MOST_COMMON_WEEKDAY_TO_PURCHASE  AVG_DAYS_BETWEEN_PURCHASES  \\\n",
       "13                              6.0                        19.0   \n",
       "16                              1.0                        55.0   \n",
       "17                              2.0                       254.0   \n",
       "26                              2.0                        52.0   \n",
       "31                              2.0                        13.0   \n",
       "\n",
       "    MEDIAN_DAYS_BETWEEN_PURCHASES AVERAGE_DELIVERY_DISTANCE_KMS  \\\n",
       "13                           19.0                         1.382   \n",
       "16                           56.0                         4.903   \n",
       "17                          254.0                         8.324   \n",
       "26                           58.0                         4.506   \n",
       "31                            2.0                         6.747   \n",
       "\n",
       "                         PURCHASE_COUNT_BY_STORE_TYPE  \n",
       "13  {\\n  \"General merchandise\": 0,\\n  \"Grocery\": 0...  \n",
       "16  {\\n  \"General merchandise\": 1,\\n  \"Grocery\": 3...  \n",
       "17  {\\n  \"General merchandise\": 0,\\n  \"Grocery\": 0...  \n",
       "26  {\\n  \"General merchandise\": 0,\\n  \"Grocery\": 0...  \n",
       "31  {\\n  \"General merchandise\": 0,\\n  \"Grocery\": 1...  \n",
       "\n",
       "[5 rows x 30 columns]"
      ]
     },
     "execution_count": 14,
     "metadata": {},
     "output_type": "execute_result"
    }
   ],
   "source": [
    "new_df.head()"
   ]
  },
  {
   "cell_type": "code",
   "execution_count": null,
   "id": "890f8963-c260-44e7-ae53-c9579c6a4815",
   "metadata": {},
   "outputs": [],
   "source": []
  },
  {
   "cell_type": "code",
   "execution_count": 15,
   "id": "3da6d6b6-448f-4e4f-8546-ea3e8a88976c",
   "metadata": {},
   "outputs": [],
   "source": [
    "new_df[[\"registration_date\", \"registration_time\"]] = new_df[\"REGISTRATION_DATE\"].str.split(\" \", expand = True)"
   ]
  },
  {
   "cell_type": "code",
   "execution_count": 16,
   "id": "cb032f6e-d7ac-417a-ae1c-47f2e1a65345",
   "metadata": {},
   "outputs": [],
   "source": [
    "new_df[[\"year\",\"month\",\"day\"]] = new_df[\"registration_date\"].str.split(\"-\", expand = True)"
   ]
  },
  {
   "cell_type": "code",
   "execution_count": 17,
   "id": "27d421ed-c26c-4935-b35f-3a8ab2586d94",
   "metadata": {},
   "outputs": [],
   "source": [
    "new_df[\"day\"] = new_df[\"day\"].astype(int)\n",
    "new_df[\"year\"] = new_df[\"year\"].astype(int)"
   ]
  },
  {
   "cell_type": "code",
   "execution_count": 18,
   "id": "257e5803-2dbf-47f7-b0dd-6ea199e839bd",
   "metadata": {},
   "outputs": [],
   "source": [
    "def func(x):\n",
    "    if(x == \"09\"):\n",
    "        return \"september\"\n",
    "\n",
    "new_df[\"month\"] = new_df[\"month\"].map(func)"
   ]
  },
  {
   "cell_type": "code",
   "execution_count": 19,
   "id": "b2087c43-cb6b-4a84-aaf4-c55e42f1a267",
   "metadata": {},
   "outputs": [],
   "source": [
    "new_df[[\"first_purchase_date\", \"first_purchase_time\"]] = new_df[\"FIRST_PURCHASE_DAY\"].str.split(\" \", expand = True)"
   ]
  },
  {
   "cell_type": "code",
   "execution_count": 20,
   "id": "8186c66f-49b1-4340-9968-8f15bc7a8bf2",
   "metadata": {},
   "outputs": [],
   "source": [
    "new_df[[\"first_purchase_year\", \"first_purchase_month\", \"first_purchase_day\"]] = new_df[\"first_purchase_date\"].str.split(\"-\", expand = True)"
   ]
  },
  {
   "cell_type": "code",
   "execution_count": 21,
   "id": "5b81b29a-e3f3-4546-a493-85ce963b2fa7",
   "metadata": {},
   "outputs": [],
   "source": [
    "new_df[\"first_purchase_year\"] = new_df[\"first_purchase_year\"].astype(int)\n",
    "new_df[\"first_purchase_day\"] = new_df[\"first_purchase_day\"].astype(int)"
   ]
  },
  {
   "cell_type": "code",
   "execution_count": 22,
   "id": "f9166d06-0276-4ce0-9a5a-b131df0ccd70",
   "metadata": {},
   "outputs": [
    {
     "data": {
      "text/plain": [
       "array(['08', '12', '09', '02', '11', '04', '10', '05', '03', '06', '01',\n",
       "       '07'], dtype=object)"
      ]
     },
     "execution_count": 22,
     "metadata": {},
     "output_type": "execute_result"
    }
   ],
   "source": [
    "new_df[\"first_purchase_month\"].unique()"
   ]
  },
  {
   "cell_type": "code",
   "execution_count": 23,
   "id": "40594de3-c2e4-42c4-925c-0a911acd870b",
   "metadata": {},
   "outputs": [],
   "source": [
    "\n",
    "month = {\"01\":\"january\", \n",
    "         \"02\":\"february\",\n",
    "         \"03\":\"march\",\n",
    "         \"04\":\"april\",\n",
    "         \"05\":\"may\",\n",
    "         \"06\":\"june\",\n",
    "         \"07\":\"july\",\n",
    "         \"08\":\"august\",\n",
    "         \"09\":\"september\",\"10\":\"october\",\"11\":\"november\",\"12\":\"december\"}\n",
    "\n",
    "new_df[\"first_purchase_month\"] = new_df[\"first_purchase_month\"].map(month)"
   ]
  },
  {
   "cell_type": "code",
   "execution_count": 24,
   "id": "f9bf0b5a-df08-4d72-b1bf-07b73e2d78de",
   "metadata": {},
   "outputs": [
    {
     "data": {
      "text/html": [
       "<div>\n",
       "<style scoped>\n",
       "    .dataframe tbody tr th:only-of-type {\n",
       "        vertical-align: middle;\n",
       "    }\n",
       "\n",
       "    .dataframe tbody tr th {\n",
       "        vertical-align: top;\n",
       "    }\n",
       "\n",
       "    .dataframe thead th {\n",
       "        text-align: right;\n",
       "    }\n",
       "</style>\n",
       "<table border=\"1\" class=\"dataframe\">\n",
       "  <thead>\n",
       "    <tr style=\"text-align: right;\">\n",
       "      <th></th>\n",
       "      <th>REGISTRATION_DATE</th>\n",
       "      <th>REGISTRATION_COUNTRY</th>\n",
       "      <th>PURCHASE_COUNT</th>\n",
       "      <th>PURCHASE_COUNT_DELIVERY</th>\n",
       "      <th>PURCHASE_COUNT_TAKEAWAY</th>\n",
       "      <th>FIRST_PURCHASE_DAY</th>\n",
       "      <th>LAST_PURCHASE_DAY</th>\n",
       "      <th>USER_ID</th>\n",
       "      <th>BREAKFAST_PURCHASES</th>\n",
       "      <th>LUNCH_PURCHASES</th>\n",
       "      <th>...</th>\n",
       "      <th>registration_date</th>\n",
       "      <th>registration_time</th>\n",
       "      <th>year</th>\n",
       "      <th>month</th>\n",
       "      <th>day</th>\n",
       "      <th>first_purchase_date</th>\n",
       "      <th>first_purchase_time</th>\n",
       "      <th>first_purchase_year</th>\n",
       "      <th>first_purchase_month</th>\n",
       "      <th>first_purchase_day</th>\n",
       "    </tr>\n",
       "  </thead>\n",
       "  <tbody>\n",
       "    <tr>\n",
       "      <th>13</th>\n",
       "      <td>2019-09-01 00:00:00.000</td>\n",
       "      <td>FIN</td>\n",
       "      <td>2</td>\n",
       "      <td>2.0</td>\n",
       "      <td>0.0</td>\n",
       "      <td>2020-08-21 00:00:00.000</td>\n",
       "      <td>2020-09-09 00:00:00.000</td>\n",
       "      <td>14</td>\n",
       "      <td>0.0</td>\n",
       "      <td>1.0</td>\n",
       "      <td>...</td>\n",
       "      <td>2019-09-01</td>\n",
       "      <td>00:00:00.000</td>\n",
       "      <td>2019</td>\n",
       "      <td>september</td>\n",
       "      <td>1</td>\n",
       "      <td>2020-08-21</td>\n",
       "      <td>00:00:00.000</td>\n",
       "      <td>2020</td>\n",
       "      <td>august</td>\n",
       "      <td>21</td>\n",
       "    </tr>\n",
       "    <tr>\n",
       "      <th>16</th>\n",
       "      <td>2019-09-01 00:00:00.000</td>\n",
       "      <td>FIN</td>\n",
       "      <td>7</td>\n",
       "      <td>5.0</td>\n",
       "      <td>2.0</td>\n",
       "      <td>2019-12-05 00:00:00.000</td>\n",
       "      <td>2020-10-31 00:00:00.000</td>\n",
       "      <td>17</td>\n",
       "      <td>0.0</td>\n",
       "      <td>5.0</td>\n",
       "      <td>...</td>\n",
       "      <td>2019-09-01</td>\n",
       "      <td>00:00:00.000</td>\n",
       "      <td>2019</td>\n",
       "      <td>september</td>\n",
       "      <td>1</td>\n",
       "      <td>2019-12-05</td>\n",
       "      <td>00:00:00.000</td>\n",
       "      <td>2019</td>\n",
       "      <td>december</td>\n",
       "      <td>5</td>\n",
       "    </tr>\n",
       "    <tr>\n",
       "      <th>17</th>\n",
       "      <td>2019-09-01 00:00:00.000</td>\n",
       "      <td>DNK</td>\n",
       "      <td>2</td>\n",
       "      <td>2.0</td>\n",
       "      <td>0.0</td>\n",
       "      <td>2019-09-05 00:00:00.000</td>\n",
       "      <td>2020-05-16 00:00:00.000</td>\n",
       "      <td>18</td>\n",
       "      <td>0.0</td>\n",
       "      <td>0.0</td>\n",
       "      <td>...</td>\n",
       "      <td>2019-09-01</td>\n",
       "      <td>00:00:00.000</td>\n",
       "      <td>2019</td>\n",
       "      <td>september</td>\n",
       "      <td>1</td>\n",
       "      <td>2019-09-05</td>\n",
       "      <td>00:00:00.000</td>\n",
       "      <td>2019</td>\n",
       "      <td>september</td>\n",
       "      <td>5</td>\n",
       "    </tr>\n",
       "    <tr>\n",
       "      <th>26</th>\n",
       "      <td>2019-09-01 00:00:00.000</td>\n",
       "      <td>FIN</td>\n",
       "      <td>6</td>\n",
       "      <td>6.0</td>\n",
       "      <td>0.0</td>\n",
       "      <td>2020-02-02 00:00:00.000</td>\n",
       "      <td>2020-10-18 00:00:00.000</td>\n",
       "      <td>27</td>\n",
       "      <td>0.0</td>\n",
       "      <td>2.0</td>\n",
       "      <td>...</td>\n",
       "      <td>2019-09-01</td>\n",
       "      <td>00:00:00.000</td>\n",
       "      <td>2019</td>\n",
       "      <td>september</td>\n",
       "      <td>1</td>\n",
       "      <td>2020-02-02</td>\n",
       "      <td>00:00:00.000</td>\n",
       "      <td>2020</td>\n",
       "      <td>february</td>\n",
       "      <td>2</td>\n",
       "    </tr>\n",
       "    <tr>\n",
       "      <th>31</th>\n",
       "      <td>2019-09-01 00:00:00.000</td>\n",
       "      <td>LVA</td>\n",
       "      <td>33</td>\n",
       "      <td>32.0</td>\n",
       "      <td>1.0</td>\n",
       "      <td>2019-09-13 00:00:00.000</td>\n",
       "      <td>2020-10-29 00:00:00.000</td>\n",
       "      <td>32</td>\n",
       "      <td>0.0</td>\n",
       "      <td>7.0</td>\n",
       "      <td>...</td>\n",
       "      <td>2019-09-01</td>\n",
       "      <td>00:00:00.000</td>\n",
       "      <td>2019</td>\n",
       "      <td>september</td>\n",
       "      <td>1</td>\n",
       "      <td>2019-09-13</td>\n",
       "      <td>00:00:00.000</td>\n",
       "      <td>2019</td>\n",
       "      <td>september</td>\n",
       "      <td>13</td>\n",
       "    </tr>\n",
       "  </tbody>\n",
       "</table>\n",
       "<p>5 rows × 40 columns</p>\n",
       "</div>"
      ],
      "text/plain": [
       "          REGISTRATION_DATE REGISTRATION_COUNTRY  PURCHASE_COUNT  \\\n",
       "13  2019-09-01 00:00:00.000                  FIN               2   \n",
       "16  2019-09-01 00:00:00.000                  FIN               7   \n",
       "17  2019-09-01 00:00:00.000                  DNK               2   \n",
       "26  2019-09-01 00:00:00.000                  FIN               6   \n",
       "31  2019-09-01 00:00:00.000                  LVA              33   \n",
       "\n",
       "    PURCHASE_COUNT_DELIVERY  PURCHASE_COUNT_TAKEAWAY       FIRST_PURCHASE_DAY  \\\n",
       "13                      2.0                      0.0  2020-08-21 00:00:00.000   \n",
       "16                      5.0                      2.0  2019-12-05 00:00:00.000   \n",
       "17                      2.0                      0.0  2019-09-05 00:00:00.000   \n",
       "26                      6.0                      0.0  2020-02-02 00:00:00.000   \n",
       "31                     32.0                      1.0  2019-09-13 00:00:00.000   \n",
       "\n",
       "          LAST_PURCHASE_DAY  USER_ID  BREAKFAST_PURCHASES  LUNCH_PURCHASES  \\\n",
       "13  2020-09-09 00:00:00.000       14                  0.0              1.0   \n",
       "16  2020-10-31 00:00:00.000       17                  0.0              5.0   \n",
       "17  2020-05-16 00:00:00.000       18                  0.0              0.0   \n",
       "26  2020-10-18 00:00:00.000       27                  0.0              2.0   \n",
       "31  2020-10-29 00:00:00.000       32                  0.0              7.0   \n",
       "\n",
       "    ...  registration_date  registration_time  year      month  day  \\\n",
       "13  ...         2019-09-01       00:00:00.000  2019  september    1   \n",
       "16  ...         2019-09-01       00:00:00.000  2019  september    1   \n",
       "17  ...         2019-09-01       00:00:00.000  2019  september    1   \n",
       "26  ...         2019-09-01       00:00:00.000  2019  september    1   \n",
       "31  ...         2019-09-01       00:00:00.000  2019  september    1   \n",
       "\n",
       "    first_purchase_date  first_purchase_time  first_purchase_year  \\\n",
       "13           2020-08-21         00:00:00.000                 2020   \n",
       "16           2019-12-05         00:00:00.000                 2019   \n",
       "17           2019-09-05         00:00:00.000                 2019   \n",
       "26           2020-02-02         00:00:00.000                 2020   \n",
       "31           2019-09-13         00:00:00.000                 2019   \n",
       "\n",
       "   first_purchase_month  first_purchase_day  \n",
       "13               august                  21  \n",
       "16             december                   5  \n",
       "17            september                   5  \n",
       "26             february                   2  \n",
       "31            september                  13  \n",
       "\n",
       "[5 rows x 40 columns]"
      ]
     },
     "execution_count": 24,
     "metadata": {},
     "output_type": "execute_result"
    }
   ],
   "source": [
    "new_df.head()"
   ]
  },
  {
   "cell_type": "code",
   "execution_count": 25,
   "id": "44b95d76-5bca-4c0c-a7bd-b4091c7ab7e1",
   "metadata": {},
   "outputs": [
    {
     "data": {
      "text/html": [
       "<div>\n",
       "<style scoped>\n",
       "    .dataframe tbody tr th:only-of-type {\n",
       "        vertical-align: middle;\n",
       "    }\n",
       "\n",
       "    .dataframe tbody tr th {\n",
       "        vertical-align: top;\n",
       "    }\n",
       "\n",
       "    .dataframe thead th {\n",
       "        text-align: right;\n",
       "    }\n",
       "</style>\n",
       "<table border=\"1\" class=\"dataframe\">\n",
       "  <thead>\n",
       "    <tr style=\"text-align: right;\">\n",
       "      <th></th>\n",
       "      <th>REGISTRATION_DATE</th>\n",
       "      <th>REGISTRATION_COUNTRY</th>\n",
       "      <th>PURCHASE_COUNT</th>\n",
       "      <th>PURCHASE_COUNT_DELIVERY</th>\n",
       "      <th>PURCHASE_COUNT_TAKEAWAY</th>\n",
       "      <th>FIRST_PURCHASE_DAY</th>\n",
       "      <th>LAST_PURCHASE_DAY</th>\n",
       "      <th>USER_ID</th>\n",
       "      <th>BREAKFAST_PURCHASES</th>\n",
       "      <th>LUNCH_PURCHASES</th>\n",
       "      <th>...</th>\n",
       "      <th>registration_date</th>\n",
       "      <th>registration_time</th>\n",
       "      <th>year</th>\n",
       "      <th>month</th>\n",
       "      <th>day</th>\n",
       "      <th>first_purchase_date</th>\n",
       "      <th>first_purchase_time</th>\n",
       "      <th>first_purchase_year</th>\n",
       "      <th>first_purchase_month</th>\n",
       "      <th>first_purchase_day</th>\n",
       "    </tr>\n",
       "  </thead>\n",
       "  <tbody>\n",
       "    <tr>\n",
       "      <th>13</th>\n",
       "      <td>2019-09-01 00:00:00.000</td>\n",
       "      <td>FIN</td>\n",
       "      <td>2</td>\n",
       "      <td>2.0</td>\n",
       "      <td>0.0</td>\n",
       "      <td>2020-08-21 00:00:00.000</td>\n",
       "      <td>2020-09-09 00:00:00.000</td>\n",
       "      <td>14</td>\n",
       "      <td>0.0</td>\n",
       "      <td>1.0</td>\n",
       "      <td>...</td>\n",
       "      <td>2019-09-01</td>\n",
       "      <td>00:00:00.000</td>\n",
       "      <td>2019</td>\n",
       "      <td>september</td>\n",
       "      <td>1</td>\n",
       "      <td>2020-08-21</td>\n",
       "      <td>00:00:00.000</td>\n",
       "      <td>2020</td>\n",
       "      <td>august</td>\n",
       "      <td>21</td>\n",
       "    </tr>\n",
       "    <tr>\n",
       "      <th>16</th>\n",
       "      <td>2019-09-01 00:00:00.000</td>\n",
       "      <td>FIN</td>\n",
       "      <td>7</td>\n",
       "      <td>5.0</td>\n",
       "      <td>2.0</td>\n",
       "      <td>2019-12-05 00:00:00.000</td>\n",
       "      <td>2020-10-31 00:00:00.000</td>\n",
       "      <td>17</td>\n",
       "      <td>0.0</td>\n",
       "      <td>5.0</td>\n",
       "      <td>...</td>\n",
       "      <td>2019-09-01</td>\n",
       "      <td>00:00:00.000</td>\n",
       "      <td>2019</td>\n",
       "      <td>september</td>\n",
       "      <td>1</td>\n",
       "      <td>2019-12-05</td>\n",
       "      <td>00:00:00.000</td>\n",
       "      <td>2019</td>\n",
       "      <td>december</td>\n",
       "      <td>5</td>\n",
       "    </tr>\n",
       "    <tr>\n",
       "      <th>17</th>\n",
       "      <td>2019-09-01 00:00:00.000</td>\n",
       "      <td>DNK</td>\n",
       "      <td>2</td>\n",
       "      <td>2.0</td>\n",
       "      <td>0.0</td>\n",
       "      <td>2019-09-05 00:00:00.000</td>\n",
       "      <td>2020-05-16 00:00:00.000</td>\n",
       "      <td>18</td>\n",
       "      <td>0.0</td>\n",
       "      <td>0.0</td>\n",
       "      <td>...</td>\n",
       "      <td>2019-09-01</td>\n",
       "      <td>00:00:00.000</td>\n",
       "      <td>2019</td>\n",
       "      <td>september</td>\n",
       "      <td>1</td>\n",
       "      <td>2019-09-05</td>\n",
       "      <td>00:00:00.000</td>\n",
       "      <td>2019</td>\n",
       "      <td>september</td>\n",
       "      <td>5</td>\n",
       "    </tr>\n",
       "    <tr>\n",
       "      <th>26</th>\n",
       "      <td>2019-09-01 00:00:00.000</td>\n",
       "      <td>FIN</td>\n",
       "      <td>6</td>\n",
       "      <td>6.0</td>\n",
       "      <td>0.0</td>\n",
       "      <td>2020-02-02 00:00:00.000</td>\n",
       "      <td>2020-10-18 00:00:00.000</td>\n",
       "      <td>27</td>\n",
       "      <td>0.0</td>\n",
       "      <td>2.0</td>\n",
       "      <td>...</td>\n",
       "      <td>2019-09-01</td>\n",
       "      <td>00:00:00.000</td>\n",
       "      <td>2019</td>\n",
       "      <td>september</td>\n",
       "      <td>1</td>\n",
       "      <td>2020-02-02</td>\n",
       "      <td>00:00:00.000</td>\n",
       "      <td>2020</td>\n",
       "      <td>february</td>\n",
       "      <td>2</td>\n",
       "    </tr>\n",
       "    <tr>\n",
       "      <th>31</th>\n",
       "      <td>2019-09-01 00:00:00.000</td>\n",
       "      <td>LVA</td>\n",
       "      <td>33</td>\n",
       "      <td>32.0</td>\n",
       "      <td>1.0</td>\n",
       "      <td>2019-09-13 00:00:00.000</td>\n",
       "      <td>2020-10-29 00:00:00.000</td>\n",
       "      <td>32</td>\n",
       "      <td>0.0</td>\n",
       "      <td>7.0</td>\n",
       "      <td>...</td>\n",
       "      <td>2019-09-01</td>\n",
       "      <td>00:00:00.000</td>\n",
       "      <td>2019</td>\n",
       "      <td>september</td>\n",
       "      <td>1</td>\n",
       "      <td>2019-09-13</td>\n",
       "      <td>00:00:00.000</td>\n",
       "      <td>2019</td>\n",
       "      <td>september</td>\n",
       "      <td>13</td>\n",
       "    </tr>\n",
       "  </tbody>\n",
       "</table>\n",
       "<p>5 rows × 40 columns</p>\n",
       "</div>"
      ],
      "text/plain": [
       "          REGISTRATION_DATE REGISTRATION_COUNTRY  PURCHASE_COUNT  \\\n",
       "13  2019-09-01 00:00:00.000                  FIN               2   \n",
       "16  2019-09-01 00:00:00.000                  FIN               7   \n",
       "17  2019-09-01 00:00:00.000                  DNK               2   \n",
       "26  2019-09-01 00:00:00.000                  FIN               6   \n",
       "31  2019-09-01 00:00:00.000                  LVA              33   \n",
       "\n",
       "    PURCHASE_COUNT_DELIVERY  PURCHASE_COUNT_TAKEAWAY       FIRST_PURCHASE_DAY  \\\n",
       "13                      2.0                      0.0  2020-08-21 00:00:00.000   \n",
       "16                      5.0                      2.0  2019-12-05 00:00:00.000   \n",
       "17                      2.0                      0.0  2019-09-05 00:00:00.000   \n",
       "26                      6.0                      0.0  2020-02-02 00:00:00.000   \n",
       "31                     32.0                      1.0  2019-09-13 00:00:00.000   \n",
       "\n",
       "          LAST_PURCHASE_DAY  USER_ID  BREAKFAST_PURCHASES  LUNCH_PURCHASES  \\\n",
       "13  2020-09-09 00:00:00.000       14                  0.0              1.0   \n",
       "16  2020-10-31 00:00:00.000       17                  0.0              5.0   \n",
       "17  2020-05-16 00:00:00.000       18                  0.0              0.0   \n",
       "26  2020-10-18 00:00:00.000       27                  0.0              2.0   \n",
       "31  2020-10-29 00:00:00.000       32                  0.0              7.0   \n",
       "\n",
       "    ...  registration_date  registration_time  year      month  day  \\\n",
       "13  ...         2019-09-01       00:00:00.000  2019  september    1   \n",
       "16  ...         2019-09-01       00:00:00.000  2019  september    1   \n",
       "17  ...         2019-09-01       00:00:00.000  2019  september    1   \n",
       "26  ...         2019-09-01       00:00:00.000  2019  september    1   \n",
       "31  ...         2019-09-01       00:00:00.000  2019  september    1   \n",
       "\n",
       "    first_purchase_date  first_purchase_time  first_purchase_year  \\\n",
       "13           2020-08-21         00:00:00.000                 2020   \n",
       "16           2019-12-05         00:00:00.000                 2019   \n",
       "17           2019-09-05         00:00:00.000                 2019   \n",
       "26           2020-02-02         00:00:00.000                 2020   \n",
       "31           2019-09-13         00:00:00.000                 2019   \n",
       "\n",
       "   first_purchase_month  first_purchase_day  \n",
       "13               august                  21  \n",
       "16             december                   5  \n",
       "17            september                   5  \n",
       "26             february                   2  \n",
       "31            september                  13  \n",
       "\n",
       "[5 rows x 40 columns]"
      ]
     },
     "execution_count": 25,
     "metadata": {},
     "output_type": "execute_result"
    }
   ],
   "source": [
    "new_df.head()"
   ]
  },
  {
   "cell_type": "code",
   "execution_count": 26,
   "id": "6ba3ecc7-1e57-423a-956a-ec7c2e120f88",
   "metadata": {},
   "outputs": [
    {
     "name": "stdout",
     "output_type": "stream",
     "text": [
      "<class 'pandas.core.frame.DataFrame'>\n",
      "Index: 2447 entries, 13 to 21969\n",
      "Data columns (total 40 columns):\n",
      " #   Column                                   Non-Null Count  Dtype  \n",
      "---  ------                                   --------------  -----  \n",
      " 0   REGISTRATION_DATE                        2447 non-null   object \n",
      " 1   REGISTRATION_COUNTRY                     2447 non-null   object \n",
      " 2   PURCHASE_COUNT                           2447 non-null   int64  \n",
      " 3   PURCHASE_COUNT_DELIVERY                  2447 non-null   float64\n",
      " 4   PURCHASE_COUNT_TAKEAWAY                  2447 non-null   float64\n",
      " 5   FIRST_PURCHASE_DAY                       2447 non-null   object \n",
      " 6   LAST_PURCHASE_DAY                        2447 non-null   object \n",
      " 7   USER_ID                                  2447 non-null   int64  \n",
      " 8   BREAKFAST_PURCHASES                      2447 non-null   float64\n",
      " 9   LUNCH_PURCHASES                          2447 non-null   float64\n",
      " 10  EVENING_PURCHASES                        2447 non-null   float64\n",
      " 11  DINNER_PURCHASES                         2447 non-null   float64\n",
      " 12  LATE_NIGHT_PURCHASES                     2447 non-null   float64\n",
      " 13  TOTAL_PURCHASES_EUR                      2447 non-null   float64\n",
      " 14  DISTINCT_PURCHASE_VENUE_COUNT            2447 non-null   float64\n",
      " 15  MIN_PURCHASE_VALUE_EUR                   2447 non-null   float64\n",
      " 16  MAX_PURCHASE_VALUE_EUR                   2447 non-null   float64\n",
      " 17  AVG_PURCHASE_VALUE_EUR                   2447 non-null   float64\n",
      " 18  PREFERRED_DEVICE                         2447 non-null   object \n",
      " 19  IOS_PURCHASES                            2447 non-null   float64\n",
      " 20  WEB_PURCHASES                            2447 non-null   float64\n",
      " 21  ANDROID_PURCHASES                        2447 non-null   float64\n",
      " 22  PREFERRED_RESTAURANT_TYPES               2447 non-null   object \n",
      " 23  USER_HAS_VALID_PAYMENT_METHOD            2447 non-null   bool   \n",
      " 24  MOST_COMMON_HOUR_OF_THE_DAY_TO_PURCHASE  2447 non-null   float64\n",
      " 25  MOST_COMMON_WEEKDAY_TO_PURCHASE          2447 non-null   float64\n",
      " 26  AVG_DAYS_BETWEEN_PURCHASES               2447 non-null   float64\n",
      " 27  MEDIAN_DAYS_BETWEEN_PURCHASES            2447 non-null   float64\n",
      " 28  AVERAGE_DELIVERY_DISTANCE_KMS            2447 non-null   float64\n",
      " 29  PURCHASE_COUNT_BY_STORE_TYPE             2447 non-null   object \n",
      " 30  registration_date                        2447 non-null   object \n",
      " 31  registration_time                        2447 non-null   object \n",
      " 32  year                                     2447 non-null   int32  \n",
      " 33  month                                    2447 non-null   object \n",
      " 34  day                                      2447 non-null   int32  \n",
      " 35  first_purchase_date                      2447 non-null   object \n",
      " 36  first_purchase_time                      2447 non-null   object \n",
      " 37  first_purchase_year                      2447 non-null   int32  \n",
      " 38  first_purchase_month                     2447 non-null   object \n",
      " 39  first_purchase_day                       2447 non-null   int32  \n",
      "dtypes: bool(1), float64(20), int32(4), int64(2), object(13)\n",
      "memory usage: 728.8+ KB\n"
     ]
    }
   ],
   "source": [
    "new_df.info()"
   ]
  },
  {
   "cell_type": "code",
   "execution_count": null,
   "id": "9e275a95-5b4d-433d-97f2-a07c1a1bf85f",
   "metadata": {},
   "outputs": [],
   "source": []
  },
  {
   "cell_type": "code",
   "execution_count": 27,
   "id": "889a7c07-2e07-4b3a-99ec-4b5abc8c925f",
   "metadata": {},
   "outputs": [],
   "source": [
    "\n",
    "new_df[\"PREFERRED_RESTAURANT_TYPES\"]= new_df[\"PREFERRED_RESTAURANT_TYPES\"].str.replace(\"\\n\", \"\").str.replace(\"[\", \"\").str.replace(\"]\",\"\").str.strip('\"').str.replace('\"',\"\")"
   ]
  },
  {
   "cell_type": "code",
   "execution_count": 28,
   "id": "47d2a2a6-d70f-477d-8566-81fda39b9307",
   "metadata": {},
   "outputs": [
    {
     "data": {
      "text/html": [
       "<div>\n",
       "<style scoped>\n",
       "    .dataframe tbody tr th:only-of-type {\n",
       "        vertical-align: middle;\n",
       "    }\n",
       "\n",
       "    .dataframe tbody tr th {\n",
       "        vertical-align: top;\n",
       "    }\n",
       "\n",
       "    .dataframe thead th {\n",
       "        text-align: right;\n",
       "    }\n",
       "</style>\n",
       "<table border=\"1\" class=\"dataframe\">\n",
       "  <thead>\n",
       "    <tr style=\"text-align: right;\">\n",
       "      <th></th>\n",
       "      <th>REGISTRATION_DATE</th>\n",
       "      <th>REGISTRATION_COUNTRY</th>\n",
       "      <th>PURCHASE_COUNT</th>\n",
       "      <th>PURCHASE_COUNT_DELIVERY</th>\n",
       "      <th>PURCHASE_COUNT_TAKEAWAY</th>\n",
       "      <th>FIRST_PURCHASE_DAY</th>\n",
       "      <th>LAST_PURCHASE_DAY</th>\n",
       "      <th>USER_ID</th>\n",
       "      <th>BREAKFAST_PURCHASES</th>\n",
       "      <th>LUNCH_PURCHASES</th>\n",
       "      <th>...</th>\n",
       "      <th>registration_date</th>\n",
       "      <th>registration_time</th>\n",
       "      <th>year</th>\n",
       "      <th>month</th>\n",
       "      <th>day</th>\n",
       "      <th>first_purchase_date</th>\n",
       "      <th>first_purchase_time</th>\n",
       "      <th>first_purchase_year</th>\n",
       "      <th>first_purchase_month</th>\n",
       "      <th>first_purchase_day</th>\n",
       "    </tr>\n",
       "  </thead>\n",
       "  <tbody>\n",
       "    <tr>\n",
       "      <th>13</th>\n",
       "      <td>2019-09-01 00:00:00.000</td>\n",
       "      <td>FIN</td>\n",
       "      <td>2</td>\n",
       "      <td>2.0</td>\n",
       "      <td>0.0</td>\n",
       "      <td>2020-08-21 00:00:00.000</td>\n",
       "      <td>2020-09-09 00:00:00.000</td>\n",
       "      <td>14</td>\n",
       "      <td>0.0</td>\n",
       "      <td>1.0</td>\n",
       "      <td>...</td>\n",
       "      <td>2019-09-01</td>\n",
       "      <td>00:00:00.000</td>\n",
       "      <td>2019</td>\n",
       "      <td>september</td>\n",
       "      <td>1</td>\n",
       "      <td>2020-08-21</td>\n",
       "      <td>00:00:00.000</td>\n",
       "      <td>2020</td>\n",
       "      <td>august</td>\n",
       "      <td>21</td>\n",
       "    </tr>\n",
       "    <tr>\n",
       "      <th>16</th>\n",
       "      <td>2019-09-01 00:00:00.000</td>\n",
       "      <td>FIN</td>\n",
       "      <td>7</td>\n",
       "      <td>5.0</td>\n",
       "      <td>2.0</td>\n",
       "      <td>2019-12-05 00:00:00.000</td>\n",
       "      <td>2020-10-31 00:00:00.000</td>\n",
       "      <td>17</td>\n",
       "      <td>0.0</td>\n",
       "      <td>5.0</td>\n",
       "      <td>...</td>\n",
       "      <td>2019-09-01</td>\n",
       "      <td>00:00:00.000</td>\n",
       "      <td>2019</td>\n",
       "      <td>september</td>\n",
       "      <td>1</td>\n",
       "      <td>2019-12-05</td>\n",
       "      <td>00:00:00.000</td>\n",
       "      <td>2019</td>\n",
       "      <td>december</td>\n",
       "      <td>5</td>\n",
       "    </tr>\n",
       "    <tr>\n",
       "      <th>17</th>\n",
       "      <td>2019-09-01 00:00:00.000</td>\n",
       "      <td>DNK</td>\n",
       "      <td>2</td>\n",
       "      <td>2.0</td>\n",
       "      <td>0.0</td>\n",
       "      <td>2019-09-05 00:00:00.000</td>\n",
       "      <td>2020-05-16 00:00:00.000</td>\n",
       "      <td>18</td>\n",
       "      <td>0.0</td>\n",
       "      <td>0.0</td>\n",
       "      <td>...</td>\n",
       "      <td>2019-09-01</td>\n",
       "      <td>00:00:00.000</td>\n",
       "      <td>2019</td>\n",
       "      <td>september</td>\n",
       "      <td>1</td>\n",
       "      <td>2019-09-05</td>\n",
       "      <td>00:00:00.000</td>\n",
       "      <td>2019</td>\n",
       "      <td>september</td>\n",
       "      <td>5</td>\n",
       "    </tr>\n",
       "    <tr>\n",
       "      <th>26</th>\n",
       "      <td>2019-09-01 00:00:00.000</td>\n",
       "      <td>FIN</td>\n",
       "      <td>6</td>\n",
       "      <td>6.0</td>\n",
       "      <td>0.0</td>\n",
       "      <td>2020-02-02 00:00:00.000</td>\n",
       "      <td>2020-10-18 00:00:00.000</td>\n",
       "      <td>27</td>\n",
       "      <td>0.0</td>\n",
       "      <td>2.0</td>\n",
       "      <td>...</td>\n",
       "      <td>2019-09-01</td>\n",
       "      <td>00:00:00.000</td>\n",
       "      <td>2019</td>\n",
       "      <td>september</td>\n",
       "      <td>1</td>\n",
       "      <td>2020-02-02</td>\n",
       "      <td>00:00:00.000</td>\n",
       "      <td>2020</td>\n",
       "      <td>february</td>\n",
       "      <td>2</td>\n",
       "    </tr>\n",
       "    <tr>\n",
       "      <th>31</th>\n",
       "      <td>2019-09-01 00:00:00.000</td>\n",
       "      <td>LVA</td>\n",
       "      <td>33</td>\n",
       "      <td>32.0</td>\n",
       "      <td>1.0</td>\n",
       "      <td>2019-09-13 00:00:00.000</td>\n",
       "      <td>2020-10-29 00:00:00.000</td>\n",
       "      <td>32</td>\n",
       "      <td>0.0</td>\n",
       "      <td>7.0</td>\n",
       "      <td>...</td>\n",
       "      <td>2019-09-01</td>\n",
       "      <td>00:00:00.000</td>\n",
       "      <td>2019</td>\n",
       "      <td>september</td>\n",
       "      <td>1</td>\n",
       "      <td>2019-09-13</td>\n",
       "      <td>00:00:00.000</td>\n",
       "      <td>2019</td>\n",
       "      <td>september</td>\n",
       "      <td>13</td>\n",
       "    </tr>\n",
       "  </tbody>\n",
       "</table>\n",
       "<p>5 rows × 40 columns</p>\n",
       "</div>"
      ],
      "text/plain": [
       "          REGISTRATION_DATE REGISTRATION_COUNTRY  PURCHASE_COUNT  \\\n",
       "13  2019-09-01 00:00:00.000                  FIN               2   \n",
       "16  2019-09-01 00:00:00.000                  FIN               7   \n",
       "17  2019-09-01 00:00:00.000                  DNK               2   \n",
       "26  2019-09-01 00:00:00.000                  FIN               6   \n",
       "31  2019-09-01 00:00:00.000                  LVA              33   \n",
       "\n",
       "    PURCHASE_COUNT_DELIVERY  PURCHASE_COUNT_TAKEAWAY       FIRST_PURCHASE_DAY  \\\n",
       "13                      2.0                      0.0  2020-08-21 00:00:00.000   \n",
       "16                      5.0                      2.0  2019-12-05 00:00:00.000   \n",
       "17                      2.0                      0.0  2019-09-05 00:00:00.000   \n",
       "26                      6.0                      0.0  2020-02-02 00:00:00.000   \n",
       "31                     32.0                      1.0  2019-09-13 00:00:00.000   \n",
       "\n",
       "          LAST_PURCHASE_DAY  USER_ID  BREAKFAST_PURCHASES  LUNCH_PURCHASES  \\\n",
       "13  2020-09-09 00:00:00.000       14                  0.0              1.0   \n",
       "16  2020-10-31 00:00:00.000       17                  0.0              5.0   \n",
       "17  2020-05-16 00:00:00.000       18                  0.0              0.0   \n",
       "26  2020-10-18 00:00:00.000       27                  0.0              2.0   \n",
       "31  2020-10-29 00:00:00.000       32                  0.0              7.0   \n",
       "\n",
       "    ...  registration_date  registration_time  year      month  day  \\\n",
       "13  ...         2019-09-01       00:00:00.000  2019  september    1   \n",
       "16  ...         2019-09-01       00:00:00.000  2019  september    1   \n",
       "17  ...         2019-09-01       00:00:00.000  2019  september    1   \n",
       "26  ...         2019-09-01       00:00:00.000  2019  september    1   \n",
       "31  ...         2019-09-01       00:00:00.000  2019  september    1   \n",
       "\n",
       "    first_purchase_date  first_purchase_time  first_purchase_year  \\\n",
       "13           2020-08-21         00:00:00.000                 2020   \n",
       "16           2019-12-05         00:00:00.000                 2019   \n",
       "17           2019-09-05         00:00:00.000                 2019   \n",
       "26           2020-02-02         00:00:00.000                 2020   \n",
       "31           2019-09-13         00:00:00.000                 2019   \n",
       "\n",
       "   first_purchase_month  first_purchase_day  \n",
       "13               august                  21  \n",
       "16             december                   5  \n",
       "17            september                   5  \n",
       "26             february                   2  \n",
       "31            september                  13  \n",
       "\n",
       "[5 rows x 40 columns]"
      ]
     },
     "execution_count": 28,
     "metadata": {},
     "output_type": "execute_result"
    }
   ],
   "source": [
    "new_df.head()"
   ]
  },
  {
   "cell_type": "code",
   "execution_count": 29,
   "id": "93ef6caa-5b00-417a-a3f2-e319ca31cf6f",
   "metadata": {},
   "outputs": [],
   "source": [
    "weekday = {1.0: \"monday\", \n",
    "        2.0: \"tuesday\", \n",
    "        3.0:\"wednesday\", \n",
    "        4.0:\"thursday\", \n",
    "        5.0:\"friday\", \n",
    "        6.0: \"saturday\", \n",
    "        7.0: \"sunday\"\n",
    "        }\n",
    "\n",
    "new_df[\"MOST_COMMON_WEEKDAY_TO_PURCHASE\"] = new_df[\"MOST_COMMON_WEEKDAY_TO_PURCHASE\"].map(weekday)"
   ]
  },
  {
   "cell_type": "code",
   "execution_count": 30,
   "id": "48f25a1e-f5aa-478e-9c28-7cdf2b36fc21",
   "metadata": {
    "scrolled": true
   },
   "outputs": [
    {
     "data": {
      "text/plain": [
       "MOST_COMMON_WEEKDAY_TO_PURCHASE\n",
       "tuesday      372\n",
       "monday       366\n",
       "saturday     363\n",
       "wednesday    350\n",
       "sunday       349\n",
       "thursday     347\n",
       "friday       300\n",
       "Name: count, dtype: int64"
      ]
     },
     "execution_count": 30,
     "metadata": {},
     "output_type": "execute_result"
    }
   ],
   "source": [
    "new_df[\"MOST_COMMON_WEEKDAY_TO_PURCHASE\"].value_counts()"
   ]
  },
  {
   "cell_type": "code",
   "execution_count": 31,
   "id": "fd2d16ac-fcad-4a3b-9898-7456221b0390",
   "metadata": {},
   "outputs": [],
   "source": [
    "new_df[\"MOST_COMMON_WEEKDAY_TO_PURCHASE\"] = new_df[\"MOST_COMMON_WEEKDAY_TO_PURCHASE\"].astype(object)"
   ]
  },
  {
   "cell_type": "code",
   "execution_count": 32,
   "id": "3feca453-ac5a-4b39-a25d-24943dca71ef",
   "metadata": {},
   "outputs": [],
   "source": [
    "import json\n",
    "parsed_data = [json.loads(i) for i in new_df[\"PURCHASE_COUNT_BY_STORE_TYPE\"]]"
   ]
  },
  {
   "cell_type": "code",
   "execution_count": 33,
   "id": "9767bc55-37cc-4b92-93e0-3b588ce8f5da",
   "metadata": {},
   "outputs": [],
   "source": [
    "df1 = pd.DataFrame(parsed_data)"
   ]
  },
  {
   "cell_type": "code",
   "execution_count": 34,
   "id": "9f6fb14c-fddb-406c-9a52-578c804b4f74",
   "metadata": {},
   "outputs": [
    {
     "data": {
      "text/html": [
       "<div>\n",
       "<style scoped>\n",
       "    .dataframe tbody tr th:only-of-type {\n",
       "        vertical-align: middle;\n",
       "    }\n",
       "\n",
       "    .dataframe tbody tr th {\n",
       "        vertical-align: top;\n",
       "    }\n",
       "\n",
       "    .dataframe thead th {\n",
       "        text-align: right;\n",
       "    }\n",
       "</style>\n",
       "<table border=\"1\" class=\"dataframe\">\n",
       "  <thead>\n",
       "    <tr style=\"text-align: right;\">\n",
       "      <th></th>\n",
       "      <th>General merchandise</th>\n",
       "      <th>Grocery</th>\n",
       "      <th>Pet supplies</th>\n",
       "      <th>Restaurant</th>\n",
       "      <th>Retail store</th>\n",
       "    </tr>\n",
       "  </thead>\n",
       "  <tbody>\n",
       "    <tr>\n",
       "      <th>0</th>\n",
       "      <td>0</td>\n",
       "      <td>0</td>\n",
       "      <td>0</td>\n",
       "      <td>2</td>\n",
       "      <td>0</td>\n",
       "    </tr>\n",
       "    <tr>\n",
       "      <th>1</th>\n",
       "      <td>1</td>\n",
       "      <td>3</td>\n",
       "      <td>0</td>\n",
       "      <td>3</td>\n",
       "      <td>0</td>\n",
       "    </tr>\n",
       "    <tr>\n",
       "      <th>2</th>\n",
       "      <td>0</td>\n",
       "      <td>0</td>\n",
       "      <td>0</td>\n",
       "      <td>2</td>\n",
       "      <td>0</td>\n",
       "    </tr>\n",
       "    <tr>\n",
       "      <th>3</th>\n",
       "      <td>0</td>\n",
       "      <td>0</td>\n",
       "      <td>0</td>\n",
       "      <td>3</td>\n",
       "      <td>3</td>\n",
       "    </tr>\n",
       "    <tr>\n",
       "      <th>4</th>\n",
       "      <td>0</td>\n",
       "      <td>16</td>\n",
       "      <td>1</td>\n",
       "      <td>16</td>\n",
       "      <td>0</td>\n",
       "    </tr>\n",
       "    <tr>\n",
       "      <th>...</th>\n",
       "      <td>...</td>\n",
       "      <td>...</td>\n",
       "      <td>...</td>\n",
       "      <td>...</td>\n",
       "      <td>...</td>\n",
       "    </tr>\n",
       "    <tr>\n",
       "      <th>2442</th>\n",
       "      <td>0</td>\n",
       "      <td>0</td>\n",
       "      <td>0</td>\n",
       "      <td>2</td>\n",
       "      <td>0</td>\n",
       "    </tr>\n",
       "    <tr>\n",
       "      <th>2443</th>\n",
       "      <td>0</td>\n",
       "      <td>0</td>\n",
       "      <td>0</td>\n",
       "      <td>3</td>\n",
       "      <td>0</td>\n",
       "    </tr>\n",
       "    <tr>\n",
       "      <th>2444</th>\n",
       "      <td>1</td>\n",
       "      <td>12</td>\n",
       "      <td>0</td>\n",
       "      <td>12</td>\n",
       "      <td>0</td>\n",
       "    </tr>\n",
       "    <tr>\n",
       "      <th>2445</th>\n",
       "      <td>0</td>\n",
       "      <td>0</td>\n",
       "      <td>0</td>\n",
       "      <td>2</td>\n",
       "      <td>0</td>\n",
       "    </tr>\n",
       "    <tr>\n",
       "      <th>2446</th>\n",
       "      <td>0</td>\n",
       "      <td>0</td>\n",
       "      <td>0</td>\n",
       "      <td>3</td>\n",
       "      <td>3</td>\n",
       "    </tr>\n",
       "  </tbody>\n",
       "</table>\n",
       "<p>2447 rows × 5 columns</p>\n",
       "</div>"
      ],
      "text/plain": [
       "      General merchandise  Grocery  Pet supplies  Restaurant  Retail store\n",
       "0                       0        0             0           2             0\n",
       "1                       1        3             0           3             0\n",
       "2                       0        0             0           2             0\n",
       "3                       0        0             0           3             3\n",
       "4                       0       16             1          16             0\n",
       "...                   ...      ...           ...         ...           ...\n",
       "2442                    0        0             0           2             0\n",
       "2443                    0        0             0           3             0\n",
       "2444                    1       12             0          12             0\n",
       "2445                    0        0             0           2             0\n",
       "2446                    0        0             0           3             3\n",
       "\n",
       "[2447 rows x 5 columns]"
      ]
     },
     "execution_count": 34,
     "metadata": {},
     "output_type": "execute_result"
    }
   ],
   "source": [
    "df1"
   ]
  },
  {
   "cell_type": "code",
   "execution_count": 35,
   "id": "c94afe5a-e5f8-43b5-a66a-746c1aa63689",
   "metadata": {},
   "outputs": [
    {
     "data": {
      "text/plain": [
       "General merchandise    0\n",
       "Grocery                0\n",
       "Pet supplies           0\n",
       "Restaurant             0\n",
       "Retail store           0\n",
       "dtype: int64"
      ]
     },
     "execution_count": 35,
     "metadata": {},
     "output_type": "execute_result"
    }
   ],
   "source": [
    "df1.isnull().sum()"
   ]
  },
  {
   "cell_type": "code",
   "execution_count": 36,
   "id": "23261630-66ae-4dfe-a98f-e50ad68cd60a",
   "metadata": {},
   "outputs": [],
   "source": [
    "df2 = pd.concat([new_df, df1], axis = 1)"
   ]
  },
  {
   "cell_type": "code",
   "execution_count": 37,
   "id": "e43c71c5-39a9-4e24-ad0b-ebc6da4aab61",
   "metadata": {},
   "outputs": [
    {
     "data": {
      "text/html": [
       "<div>\n",
       "<style scoped>\n",
       "    .dataframe tbody tr th:only-of-type {\n",
       "        vertical-align: middle;\n",
       "    }\n",
       "\n",
       "    .dataframe tbody tr th {\n",
       "        vertical-align: top;\n",
       "    }\n",
       "\n",
       "    .dataframe thead th {\n",
       "        text-align: right;\n",
       "    }\n",
       "</style>\n",
       "<table border=\"1\" class=\"dataframe\">\n",
       "  <thead>\n",
       "    <tr style=\"text-align: right;\">\n",
       "      <th></th>\n",
       "      <th>REGISTRATION_DATE</th>\n",
       "      <th>REGISTRATION_COUNTRY</th>\n",
       "      <th>PURCHASE_COUNT</th>\n",
       "      <th>PURCHASE_COUNT_DELIVERY</th>\n",
       "      <th>PURCHASE_COUNT_TAKEAWAY</th>\n",
       "      <th>FIRST_PURCHASE_DAY</th>\n",
       "      <th>LAST_PURCHASE_DAY</th>\n",
       "      <th>USER_ID</th>\n",
       "      <th>BREAKFAST_PURCHASES</th>\n",
       "      <th>LUNCH_PURCHASES</th>\n",
       "      <th>...</th>\n",
       "      <th>first_purchase_date</th>\n",
       "      <th>first_purchase_time</th>\n",
       "      <th>first_purchase_year</th>\n",
       "      <th>first_purchase_month</th>\n",
       "      <th>first_purchase_day</th>\n",
       "      <th>General merchandise</th>\n",
       "      <th>Grocery</th>\n",
       "      <th>Pet supplies</th>\n",
       "      <th>Restaurant</th>\n",
       "      <th>Retail store</th>\n",
       "    </tr>\n",
       "  </thead>\n",
       "  <tbody>\n",
       "    <tr>\n",
       "      <th>13</th>\n",
       "      <td>2019-09-01 00:00:00.000</td>\n",
       "      <td>FIN</td>\n",
       "      <td>2.0</td>\n",
       "      <td>2.0</td>\n",
       "      <td>0.0</td>\n",
       "      <td>2020-08-21 00:00:00.000</td>\n",
       "      <td>2020-09-09 00:00:00.000</td>\n",
       "      <td>14.0</td>\n",
       "      <td>0.0</td>\n",
       "      <td>1.0</td>\n",
       "      <td>...</td>\n",
       "      <td>2020-08-21</td>\n",
       "      <td>00:00:00.000</td>\n",
       "      <td>2020.0</td>\n",
       "      <td>august</td>\n",
       "      <td>21.0</td>\n",
       "      <td>1.0</td>\n",
       "      <td>5.0</td>\n",
       "      <td>0.0</td>\n",
       "      <td>5.0</td>\n",
       "      <td>0.0</td>\n",
       "    </tr>\n",
       "    <tr>\n",
       "      <th>16</th>\n",
       "      <td>2019-09-01 00:00:00.000</td>\n",
       "      <td>FIN</td>\n",
       "      <td>7.0</td>\n",
       "      <td>5.0</td>\n",
       "      <td>2.0</td>\n",
       "      <td>2019-12-05 00:00:00.000</td>\n",
       "      <td>2020-10-31 00:00:00.000</td>\n",
       "      <td>17.0</td>\n",
       "      <td>0.0</td>\n",
       "      <td>5.0</td>\n",
       "      <td>...</td>\n",
       "      <td>2019-12-05</td>\n",
       "      <td>00:00:00.000</td>\n",
       "      <td>2019.0</td>\n",
       "      <td>december</td>\n",
       "      <td>5.0</td>\n",
       "      <td>0.0</td>\n",
       "      <td>0.0</td>\n",
       "      <td>0.0</td>\n",
       "      <td>4.0</td>\n",
       "      <td>0.0</td>\n",
       "    </tr>\n",
       "    <tr>\n",
       "      <th>17</th>\n",
       "      <td>2019-09-01 00:00:00.000</td>\n",
       "      <td>DNK</td>\n",
       "      <td>2.0</td>\n",
       "      <td>2.0</td>\n",
       "      <td>0.0</td>\n",
       "      <td>2019-09-05 00:00:00.000</td>\n",
       "      <td>2020-05-16 00:00:00.000</td>\n",
       "      <td>18.0</td>\n",
       "      <td>0.0</td>\n",
       "      <td>0.0</td>\n",
       "      <td>...</td>\n",
       "      <td>2019-09-05</td>\n",
       "      <td>00:00:00.000</td>\n",
       "      <td>2019.0</td>\n",
       "      <td>september</td>\n",
       "      <td>5.0</td>\n",
       "      <td>0.0</td>\n",
       "      <td>15.0</td>\n",
       "      <td>1.0</td>\n",
       "      <td>15.0</td>\n",
       "      <td>0.0</td>\n",
       "    </tr>\n",
       "    <tr>\n",
       "      <th>26</th>\n",
       "      <td>2019-09-01 00:00:00.000</td>\n",
       "      <td>FIN</td>\n",
       "      <td>6.0</td>\n",
       "      <td>6.0</td>\n",
       "      <td>0.0</td>\n",
       "      <td>2020-02-02 00:00:00.000</td>\n",
       "      <td>2020-10-18 00:00:00.000</td>\n",
       "      <td>27.0</td>\n",
       "      <td>0.0</td>\n",
       "      <td>2.0</td>\n",
       "      <td>...</td>\n",
       "      <td>2020-02-02</td>\n",
       "      <td>00:00:00.000</td>\n",
       "      <td>2020.0</td>\n",
       "      <td>february</td>\n",
       "      <td>2.0</td>\n",
       "      <td>0.0</td>\n",
       "      <td>0.0</td>\n",
       "      <td>0.0</td>\n",
       "      <td>2.0</td>\n",
       "      <td>0.0</td>\n",
       "    </tr>\n",
       "    <tr>\n",
       "      <th>31</th>\n",
       "      <td>2019-09-01 00:00:00.000</td>\n",
       "      <td>LVA</td>\n",
       "      <td>33.0</td>\n",
       "      <td>32.0</td>\n",
       "      <td>1.0</td>\n",
       "      <td>2019-09-13 00:00:00.000</td>\n",
       "      <td>2020-10-29 00:00:00.000</td>\n",
       "      <td>32.0</td>\n",
       "      <td>0.0</td>\n",
       "      <td>7.0</td>\n",
       "      <td>...</td>\n",
       "      <td>2019-09-13</td>\n",
       "      <td>00:00:00.000</td>\n",
       "      <td>2019.0</td>\n",
       "      <td>september</td>\n",
       "      <td>13.0</td>\n",
       "      <td>0.0</td>\n",
       "      <td>0.0</td>\n",
       "      <td>0.0</td>\n",
       "      <td>3.0</td>\n",
       "      <td>0.0</td>\n",
       "    </tr>\n",
       "  </tbody>\n",
       "</table>\n",
       "<p>5 rows × 45 columns</p>\n",
       "</div>"
      ],
      "text/plain": [
       "          REGISTRATION_DATE REGISTRATION_COUNTRY  PURCHASE_COUNT  \\\n",
       "13  2019-09-01 00:00:00.000                  FIN             2.0   \n",
       "16  2019-09-01 00:00:00.000                  FIN             7.0   \n",
       "17  2019-09-01 00:00:00.000                  DNK             2.0   \n",
       "26  2019-09-01 00:00:00.000                  FIN             6.0   \n",
       "31  2019-09-01 00:00:00.000                  LVA            33.0   \n",
       "\n",
       "    PURCHASE_COUNT_DELIVERY  PURCHASE_COUNT_TAKEAWAY       FIRST_PURCHASE_DAY  \\\n",
       "13                      2.0                      0.0  2020-08-21 00:00:00.000   \n",
       "16                      5.0                      2.0  2019-12-05 00:00:00.000   \n",
       "17                      2.0                      0.0  2019-09-05 00:00:00.000   \n",
       "26                      6.0                      0.0  2020-02-02 00:00:00.000   \n",
       "31                     32.0                      1.0  2019-09-13 00:00:00.000   \n",
       "\n",
       "          LAST_PURCHASE_DAY  USER_ID  BREAKFAST_PURCHASES  LUNCH_PURCHASES  \\\n",
       "13  2020-09-09 00:00:00.000     14.0                  0.0              1.0   \n",
       "16  2020-10-31 00:00:00.000     17.0                  0.0              5.0   \n",
       "17  2020-05-16 00:00:00.000     18.0                  0.0              0.0   \n",
       "26  2020-10-18 00:00:00.000     27.0                  0.0              2.0   \n",
       "31  2020-10-29 00:00:00.000     32.0                  0.0              7.0   \n",
       "\n",
       "    ...  first_purchase_date  first_purchase_time  first_purchase_year  \\\n",
       "13  ...           2020-08-21         00:00:00.000               2020.0   \n",
       "16  ...           2019-12-05         00:00:00.000               2019.0   \n",
       "17  ...           2019-09-05         00:00:00.000               2019.0   \n",
       "26  ...           2020-02-02         00:00:00.000               2020.0   \n",
       "31  ...           2019-09-13         00:00:00.000               2019.0   \n",
       "\n",
       "    first_purchase_month  first_purchase_day  General merchandise  Grocery  \\\n",
       "13                august                21.0                  1.0      5.0   \n",
       "16              december                 5.0                  0.0      0.0   \n",
       "17             september                 5.0                  0.0     15.0   \n",
       "26              february                 2.0                  0.0      0.0   \n",
       "31             september                13.0                  0.0      0.0   \n",
       "\n",
       "    Pet supplies Restaurant  Retail store  \n",
       "13           0.0        5.0           0.0  \n",
       "16           0.0        4.0           0.0  \n",
       "17           1.0       15.0           0.0  \n",
       "26           0.0        2.0           0.0  \n",
       "31           0.0        3.0           0.0  \n",
       "\n",
       "[5 rows x 45 columns]"
      ]
     },
     "execution_count": 37,
     "metadata": {},
     "output_type": "execute_result"
    }
   ],
   "source": [
    "df2.head()"
   ]
  },
  {
   "cell_type": "code",
   "execution_count": null,
   "id": "da987597-c484-44a6-9425-b0bcff7973d6",
   "metadata": {
    "scrolled": true
   },
   "outputs": [],
   "source": []
  },
  {
   "cell_type": "markdown",
   "id": "70bbad2b-7625-4d62-bc5b-022dbfa7aae2",
   "metadata": {},
   "source": [
    "Question 1: Users from how many countries registered on Wolt is registered in how many countries and list them?"
   ]
  },
  {
   "cell_type": "code",
   "execution_count": 38,
   "id": "77cc01f6-09f7-41e8-a109-5756a70d0a3f",
   "metadata": {},
   "outputs": [
    {
     "data": {
      "text/plain": [
       "59"
      ]
     },
     "execution_count": 38,
     "metadata": {},
     "output_type": "execute_result"
    }
   ],
   "source": [
    "df[\"REGISTRATION_COUNTRY\"].nunique()"
   ]
  },
  {
   "cell_type": "code",
   "execution_count": 39,
   "id": "9ab2beee-8f7e-4e57-b2ec-d0ab703025df",
   "metadata": {},
   "outputs": [
    {
     "data": {
      "text/plain": [
       "array(['DNK', 'FIN', 'GRC', 'LVA', 'ROU', 'FRA', 'CHN', 'ISL', 'POL',\n",
       "       'CZE', 'BRA', 'GBR', 'NLD', 'SGP', 'IND', 'NOR', 'ARE', 'AUS',\n",
       "       'USA', 'JPN', 'DEU', 'ESP', 'TWN', 'ISR', 'ITA', 'EST', 'RUS',\n",
       "       'SWE', 'IRL', 'CHE', 'LTU', 'CAN', 'AUT', 'AZE', 'TUR', 'UKR',\n",
       "       'CYP', 'BEL', 'SVK', 'HUN', 'PAK', 'COL', 'HRV', 'PRT', 'KOR',\n",
       "       'PHL', 'SAU', 'FRO', 'QAT', 'CHL', 'JOR', 'GEO', 'MEX', 'HKG',\n",
       "       'LBN', 'GIN', 'KWT', 'MLT', 'SVN'], dtype=object)"
      ]
     },
     "execution_count": 39,
     "metadata": {},
     "output_type": "execute_result"
    }
   ],
   "source": [
    "df[\"REGISTRATION_COUNTRY\"].unique()"
   ]
  },
  {
   "cell_type": "markdown",
   "id": "8ed32307-d92f-4da2-b7f4-366d7e913fae",
   "metadata": {},
   "source": [
    "From our data, Wolt is registered in 59 countries."
   ]
  },
  {
   "cell_type": "markdown",
   "id": "d6034d8f-92c7-4f68-9328-34399ad83738",
   "metadata": {},
   "source": [
    "Question 2:which year did registration take place?"
   ]
  },
  {
   "cell_type": "code",
   "execution_count": 40,
   "id": "c5c42247-546b-4176-8036-582b3c742c30",
   "metadata": {},
   "outputs": [
    {
     "data": {
      "text/plain": [
       "year\n",
       "2019    2447\n",
       "Name: count, dtype: int64"
      ]
     },
     "execution_count": 40,
     "metadata": {},
     "output_type": "execute_result"
    }
   ],
   "source": [
    "new_df[\"year\"].value_counts()"
   ]
  },
  {
   "cell_type": "code",
   "execution_count": 41,
   "id": "03002396-8269-439f-afd3-ac6026c5dd0e",
   "metadata": {},
   "outputs": [],
   "source": [
    "#Question 3:which day has the highest product purchased"
   ]
  },
  {
   "cell_type": "markdown",
   "id": "58306b68-cbee-4867-b016-07d42b7bb832",
   "metadata": {},
   "source": [
    "Question 4: How many user has valid payment method"
   ]
  },
  {
   "cell_type": "code",
   "execution_count": 42,
   "id": "8c2e7938-d678-472e-a6ed-0e5a70a805be",
   "metadata": {},
   "outputs": [
    {
     "data": {
      "text/plain": [
       "USER_HAS_VALID_PAYMENT_METHOD\n",
       "True     1584\n",
       "False     863\n",
       "Name: count, dtype: int64"
      ]
     },
     "execution_count": 42,
     "metadata": {},
     "output_type": "execute_result"
    }
   ],
   "source": [
    "new_df[\"USER_HAS_VALID_PAYMENT_METHOD\"].value_counts()"
   ]
  },
  {
   "cell_type": "code",
   "execution_count": 43,
   "id": "9879c4db-4e74-423c-94d6-3d0d569bc8d3",
   "metadata": {},
   "outputs": [
    {
     "data": {
      "text/plain": [
       "<Axes: xlabel='USER_HAS_VALID_PAYMENT_METHOD', ylabel='count'>"
      ]
     },
     "execution_count": 43,
     "metadata": {},
     "output_type": "execute_result"
    },
    {
     "data": {
      "image/png": "[encoded data removed]",
      "text/plain": [
       "<Figure size 640x480 with 1 Axes>"
      ]
     },
     "metadata": {},
     "output_type": "display_data"
    }
   ],
   "source": [
    "sns.countplot(x = \"USER_HAS_VALID_PAYMENT_METHOD\", data = new_df)"
   ]
  },
  {
   "cell_type": "markdown",
   "id": "c75b0b05-67b8-4161-ad39-9570b6ad0521",
   "metadata": {},
   "source": [
    "1584 users have valid payment method while 863 customers do not have valid payment method."
   ]
  },
  {
   "cell_type": "markdown",
   "id": "a466e965-867e-49bd-a294-e7e91a62bb0e",
   "metadata": {},
   "source": [
    "Question 5: which restaurant was preferrd the most?"
   ]
  },
  {
   "cell_type": "code",
   "execution_count": 44,
   "id": "d6eaab09-5c30-4c18-9884-c3359611532c",
   "metadata": {},
   "outputs": [
    {
     "data": {
      "text/plain": [
       "PREFERRED_RESTAURANT_TYPES\n",
       "american                                          609\n",
       "japanese                                          314\n",
       "italian                                           285\n",
       "mexican                                           129\n",
       "american,  italian                                125\n",
       "                                                 ... \n",
       "middle eastern,  italian,  american,  japanese      1\n",
       "japanese,  korean,  chinese                         1\n",
       "hawaiian,  mexican,  american                       1\n",
       "american,  mexican,  indian                         1\n",
       "italian,  hawaiian,  mexican,  vietnamese           1\n",
       "Name: count, Length: 246, dtype: int64"
      ]
     },
     "execution_count": 44,
     "metadata": {},
     "output_type": "execute_result"
    }
   ],
   "source": [
    "new_df[\"PREFERRED_RESTAURANT_TYPES\"].value_counts()"
   ]
  },
  {
   "cell_type": "markdown",
   "id": "d0abc5e3-5a80-4eaa-a4c9-5902c24bd378",
   "metadata": {},
   "source": [
    "Question 6: when did the first registration take place"
   ]
  },
  {
   "cell_type": "markdown",
   "id": "0589021a-5b3f-44b3-8cd2-cbbe2557a4be",
   "metadata": {},
   "source": [
    "the fist registration took place on the 1st of september, 2019."
   ]
  },
  {
   "cell_type": "markdown",
   "id": "36728c4e-9aae-4388-8aee-76421854f8ec",
   "metadata": {},
   "source": [
    "Question7: How many purchases were made in total?"
   ]
  },
  {
   "cell_type": "code",
   "execution_count": 45,
   "id": "14b7f7ab-cd63-40df-b797-f7bacbb09efd",
   "metadata": {},
   "outputs": [
    {
     "data": {
      "text/plain": [
       "31205"
      ]
     },
     "execution_count": 45,
     "metadata": {},
     "output_type": "execute_result"
    }
   ],
   "source": [
    "new_df[\"PURCHASE_COUNT\"].sum()"
   ]
  },
  {
   "cell_type": "markdown",
   "id": "b70cebf7-4216-455f-a240-286f84a55d3c",
   "metadata": {},
   "source": [
    "31205 purchases were made"
   ]
  },
  {
   "cell_type": "markdown",
   "id": "4472dbda-b4ff-46a0-b36a-15db0b16dfc9",
   "metadata": {},
   "source": [
    "Question8: how mmany purchases were made using web version."
   ]
  },
  {
   "cell_type": "code",
   "execution_count": 46,
   "id": "52e92f4b-4f03-49c8-8d1f-99e975cba474",
   "metadata": {},
   "outputs": [
    {
     "data": {
      "text/plain": [
       "5821.0"
      ]
     },
     "execution_count": 46,
     "metadata": {},
     "output_type": "execute_result"
    }
   ],
   "source": [
    "new_df[\"WEB_PURCHASES\"].sum()"
   ]
  },
  {
   "cell_type": "markdown",
   "id": "dce00c1e-dbbd-4386-952f-873e3de4bd5f",
   "metadata": {},
   "source": [
    "Question 9: according to the dataset, which phone operating system/ version do users who make use of wolt prefer the most?"
   ]
  },
  {
   "cell_type": "code",
   "execution_count": 47,
   "id": "43b27727-0e66-4865-981e-b4fc06f7511c",
   "metadata": {},
   "outputs": [
    {
     "data": {
      "text/plain": [
       "PREFERRED_DEVICE\n",
       "ios        1110\n",
       "android     730\n",
       "web         607\n",
       "Name: count, dtype: int64"
      ]
     },
     "execution_count": 47,
     "metadata": {},
     "output_type": "execute_result"
    }
   ],
   "source": [
    "new_df[\"PREFERRED_DEVICE\"].value_counts()"
   ]
  },
  {
   "cell_type": "code",
   "execution_count": 48,
   "id": "47b232c5-a4ba-4e3c-8bea-69ea6998489a",
   "metadata": {},
   "outputs": [
    {
     "data": {
      "text/plain": [
       "<Axes: xlabel='PREFERRED_DEVICE', ylabel='count'>"
      ]
     },
     "execution_count": 48,
     "metadata": {},
     "output_type": "execute_result"
    },
    {
     "data": {
      "image/png": "[encoded data removed]",
      "text/plain": [
       "<Figure size 640x480 with 1 Axes>"
      ]
     },
     "metadata": {},
     "output_type": "display_data"
    }
   ],
   "source": [
    "sns.countplot(x = \"PREFERRED_DEVICE\", data = new_df)"
   ]
  },
  {
   "cell_type": "markdown",
   "id": "f8eabd06-b9a6-4dde-ba52-552afb77a331",
   "metadata": {},
   "source": [
    "Question10: How many products were to be delivered?"
   ]
  },
  {
   "cell_type": "code",
   "execution_count": 49,
   "id": "36e7f3b6-0e46-4dab-b6fe-60b5a1429f07",
   "metadata": {},
   "outputs": [
    {
     "data": {
      "text/plain": [
       "29181.0"
      ]
     },
     "execution_count": 49,
     "metadata": {},
     "output_type": "execute_result"
    }
   ],
   "source": [
    "new_df[\"PURCHASE_COUNT_DELIVERY\"].sum()"
   ]
  },
  {
   "cell_type": "markdown",
   "id": "5a23c304-1fcd-4ccd-b3a4-5620ccd2d3a5",
   "metadata": {},
   "source": [
    "Question 11: which user made the highest purchase At what time was the highest purchase made?"
   ]
  },
  {
   "cell_type": "code",
   "execution_count": 50,
   "id": "b4446edc-8586-404c-8e2c-c3e8ad3f14c4",
   "metadata": {},
   "outputs": [
    {
     "data": {
      "text/html": [
       "<div>\n",
       "<style scoped>\n",
       "    .dataframe tbody tr th:only-of-type {\n",
       "        vertical-align: middle;\n",
       "    }\n",
       "\n",
       "    .dataframe tbody tr th {\n",
       "        vertical-align: top;\n",
       "    }\n",
       "\n",
       "    .dataframe thead th {\n",
       "        text-align: right;\n",
       "    }\n",
       "</style>\n",
       "<table border=\"1\" class=\"dataframe\">\n",
       "  <thead>\n",
       "    <tr style=\"text-align: right;\">\n",
       "      <th></th>\n",
       "      <th>USER_ID</th>\n",
       "      <th>PURCHASE_COUNT</th>\n",
       "      <th>FIRST_PURCHASE_DAY</th>\n",
       "      <th>LAST_PURCHASE_DAY</th>\n",
       "    </tr>\n",
       "  </thead>\n",
       "  <tbody>\n",
       "    <tr>\n",
       "      <th>18672</th>\n",
       "      <td>18673</td>\n",
       "      <td>221</td>\n",
       "      <td>2019-09-26 00:00:00.000</td>\n",
       "      <td>2020-09-08 00:00:00.000</td>\n",
       "    </tr>\n",
       "    <tr>\n",
       "      <th>4850</th>\n",
       "      <td>4851</td>\n",
       "      <td>205</td>\n",
       "      <td>2019-09-08 00:00:00.000</td>\n",
       "      <td>2020-10-24 00:00:00.000</td>\n",
       "    </tr>\n",
       "    <tr>\n",
       "      <th>18771</th>\n",
       "      <td>18772</td>\n",
       "      <td>144</td>\n",
       "      <td>2019-09-26 00:00:00.000</td>\n",
       "      <td>2020-10-21 00:00:00.000</td>\n",
       "    </tr>\n",
       "    <tr>\n",
       "      <th>1578</th>\n",
       "      <td>1579</td>\n",
       "      <td>133</td>\n",
       "      <td>2019-09-05 00:00:00.000</td>\n",
       "      <td>2020-06-26 00:00:00.000</td>\n",
       "    </tr>\n",
       "    <tr>\n",
       "      <th>1838</th>\n",
       "      <td>1839</td>\n",
       "      <td>130</td>\n",
       "      <td>2019-09-04 00:00:00.000</td>\n",
       "      <td>2020-10-30 00:00:00.000</td>\n",
       "    </tr>\n",
       "    <tr>\n",
       "      <th>...</th>\n",
       "      <td>...</td>\n",
       "      <td>...</td>\n",
       "      <td>...</td>\n",
       "      <td>...</td>\n",
       "    </tr>\n",
       "    <tr>\n",
       "      <th>11776</th>\n",
       "      <td>11777</td>\n",
       "      <td>2</td>\n",
       "      <td>2019-09-17 00:00:00.000</td>\n",
       "      <td>2020-05-30 00:00:00.000</td>\n",
       "    </tr>\n",
       "    <tr>\n",
       "      <th>11750</th>\n",
       "      <td>11751</td>\n",
       "      <td>2</td>\n",
       "      <td>2019-09-17 00:00:00.000</td>\n",
       "      <td>2020-04-22 00:00:00.000</td>\n",
       "    </tr>\n",
       "    <tr>\n",
       "      <th>11567</th>\n",
       "      <td>11568</td>\n",
       "      <td>2</td>\n",
       "      <td>2020-05-21 00:00:00.000</td>\n",
       "      <td>2020-06-30 00:00:00.000</td>\n",
       "    </tr>\n",
       "    <tr>\n",
       "      <th>11434</th>\n",
       "      <td>11435</td>\n",
       "      <td>2</td>\n",
       "      <td>2019-09-16 00:00:00.000</td>\n",
       "      <td>2020-03-26 00:00:00.000</td>\n",
       "    </tr>\n",
       "    <tr>\n",
       "      <th>10308</th>\n",
       "      <td>10309</td>\n",
       "      <td>2</td>\n",
       "      <td>2019-09-15 00:00:00.000</td>\n",
       "      <td>2019-09-27 00:00:00.000</td>\n",
       "    </tr>\n",
       "  </tbody>\n",
       "</table>\n",
       "<p>2447 rows × 4 columns</p>\n",
       "</div>"
      ],
      "text/plain": [
       "       USER_ID  PURCHASE_COUNT       FIRST_PURCHASE_DAY  \\\n",
       "18672    18673             221  2019-09-26 00:00:00.000   \n",
       "4850      4851             205  2019-09-08 00:00:00.000   \n",
       "18771    18772             144  2019-09-26 00:00:00.000   \n",
       "1578      1579             133  2019-09-05 00:00:00.000   \n",
       "1838      1839             130  2019-09-04 00:00:00.000   \n",
       "...        ...             ...                      ...   \n",
       "11776    11777               2  2019-09-17 00:00:00.000   \n",
       "11750    11751               2  2019-09-17 00:00:00.000   \n",
       "11567    11568               2  2020-05-21 00:00:00.000   \n",
       "11434    11435               2  2019-09-16 00:00:00.000   \n",
       "10308    10309               2  2019-09-15 00:00:00.000   \n",
       "\n",
       "             LAST_PURCHASE_DAY  \n",
       "18672  2020-09-08 00:00:00.000  \n",
       "4850   2020-10-24 00:00:00.000  \n",
       "18771  2020-10-21 00:00:00.000  \n",
       "1578   2020-06-26 00:00:00.000  \n",
       "1838   2020-10-30 00:00:00.000  \n",
       "...                        ...  \n",
       "11776  2020-05-30 00:00:00.000  \n",
       "11750  2020-04-22 00:00:00.000  \n",
       "11567  2020-06-30 00:00:00.000  \n",
       "11434  2020-03-26 00:00:00.000  \n",
       "10308  2019-09-27 00:00:00.000  \n",
       "\n",
       "[2447 rows x 4 columns]"
      ]
     },
     "execution_count": 50,
     "metadata": {},
     "output_type": "execute_result"
    }
   ],
   "source": [
    "new_df.sort_values(by = \"PURCHASE_COUNT\", ascending = False)[[\"USER_ID\",\"PURCHASE_COUNT\",\"FIRST_PURCHASE_DAY\",\"LAST_PURCHASE_DAY\"]]"
   ]
  },
  {
   "cell_type": "markdown",
   "id": "da7f7c04-993c-4a0c-8814-9a59af8b94df",
   "metadata": {},
   "source": [
    "USER ID MADE the highest purchaser with 221 purchase on the "
   ]
  },
  {
   "cell_type": "markdown",
   "id": "83dae197-5521-4d71-bfbe-f4f638ad322e",
   "metadata": {},
   "source": [
    "Question 12: which of the stores were things bought the most? or was patronized the most"
   ]
  },
  {
   "cell_type": "code",
   "execution_count": 51,
   "id": "3477388b-3328-48e9-bb51-8f4f1d156d23",
   "metadata": {},
   "outputs": [
    {
     "data": {
      "text/plain": [
       "664"
      ]
     },
     "execution_count": 51,
     "metadata": {},
     "output_type": "execute_result"
    }
   ],
   "source": [
    "df1[\"General merchandise\"].sum()\n"
   ]
  },
  {
   "cell_type": "code",
   "execution_count": 52,
   "id": "9adab365-3f11-447d-a6ea-0e7153f35d16",
   "metadata": {},
   "outputs": [
    {
     "data": {
      "text/plain": [
       "6403"
      ]
     },
     "execution_count": 52,
     "metadata": {},
     "output_type": "execute_result"
    }
   ],
   "source": [
    "df1[\"Grocery\"].sum()"
   ]
  },
  {
   "cell_type": "code",
   "execution_count": 53,
   "id": "13b272fa-aa6a-47da-8910-53a471e4f42e",
   "metadata": {},
   "outputs": [
    {
     "data": {
      "text/plain": [
       "87"
      ]
     },
     "execution_count": 53,
     "metadata": {},
     "output_type": "execute_result"
    }
   ],
   "source": [
    "df1[\"Pet supplies\"].sum()"
   ]
  },
  {
   "cell_type": "code",
   "execution_count": 54,
   "id": "3ffe3b91-4ead-4ae7-bccb-1cc8d9cf0401",
   "metadata": {},
   "outputs": [
    {
     "data": {
      "text/plain": [
       "16630"
      ]
     },
     "execution_count": 54,
     "metadata": {},
     "output_type": "execute_result"
    }
   ],
   "source": [
    "df1[\"Restaurant\"].sum()"
   ]
  },
  {
   "cell_type": "code",
   "execution_count": 55,
   "id": "e03db238-1e7f-482e-a18b-7b7af0e964e7",
   "metadata": {},
   "outputs": [
    {
     "data": {
      "text/plain": [
       "7421"
      ]
     },
     "execution_count": 55,
     "metadata": {},
     "output_type": "execute_result"
    }
   ],
   "source": [
    "df1[\"Retail store\"].sum()"
   ]
  },
  {
   "cell_type": "markdown",
   "id": "fd77aac8-3eb0-454b-8529-cca5d4fd54cf",
   "metadata": {},
   "source": [
    "Question 13: which month did users purchase the most"
   ]
  },
  {
   "cell_type": "code",
   "execution_count": 56,
   "id": "43ae90d4-30be-468d-bfc9-3bcae6115856",
   "metadata": {},
   "outputs": [
    {
     "data": {
      "text/plain": [
       "<Axes: ylabel='first_purchase_month'>"
      ]
     },
     "execution_count": 56,
     "metadata": {},
     "output_type": "execute_result"
    },
    {
     "data": {
      "image/png": "[encoded data removed]",
      "text/plain": [
       "<Figure size 640x480 with 1 Axes>"
      ]
     },
     "metadata": {},
     "output_type": "display_data"
    }
   ],
   "source": [
    "new_df[\"first_purchase_month\"].value_counts().sort_index().plot(kind='barh')"
   ]
  },
  {
   "cell_type": "markdown",
   "id": "a5b55e2c-1776-4ed8-9a68-2de0cece474a",
   "metadata": {},
   "source": [
    "Question 14: How many customers made late night purchases?"
   ]
  },
  {
   "cell_type": "code",
   "execution_count": 57,
   "id": "ea631e6b-dff2-434b-a0ae-f404b6f32d98",
   "metadata": {},
   "outputs": [
    {
     "data": {
      "text/html": [
       "<div>\n",
       "<style scoped>\n",
       "    .dataframe tbody tr th:only-of-type {\n",
       "        vertical-align: middle;\n",
       "    }\n",
       "\n",
       "    .dataframe tbody tr th {\n",
       "        vertical-align: top;\n",
       "    }\n",
       "\n",
       "    .dataframe thead th {\n",
       "        text-align: right;\n",
       "    }\n",
       "</style>\n",
       "<table border=\"1\" class=\"dataframe\">\n",
       "  <thead>\n",
       "    <tr style=\"text-align: right;\">\n",
       "      <th></th>\n",
       "      <th>USER_ID</th>\n",
       "      <th>LATE_NIGHT_PURCHASES</th>\n",
       "    </tr>\n",
       "    <tr>\n",
       "      <th>LATE_NIGHT_PURCHASES</th>\n",
       "      <th></th>\n",
       "      <th></th>\n",
       "    </tr>\n",
       "  </thead>\n",
       "  <tbody>\n",
       "    <tr>\n",
       "      <th>0.0</th>\n",
       "      <td>2447</td>\n",
       "      <td>2447</td>\n",
       "    </tr>\n",
       "  </tbody>\n",
       "</table>\n",
       "</div>"
      ],
      "text/plain": [
       "                      USER_ID  LATE_NIGHT_PURCHASES\n",
       "LATE_NIGHT_PURCHASES                               \n",
       "0.0                      2447                  2447"
      ]
     },
     "execution_count": 57,
     "metadata": {},
     "output_type": "execute_result"
    }
   ],
   "source": [
    "new_df.groupby(\"LATE_NIGHT_PURCHASES\")[[\"USER_ID\",\"LATE_NIGHT_PURCHASES\"]].count()"
   ]
  },
  {
   "cell_type": "markdown",
   "id": "6d918ea7-de00-41e5-8a76-86a375c91ccb",
   "metadata": {},
   "source": [
    "Question 15: which day of the week did users purchase the most?"
   ]
  },
  {
   "cell_type": "code",
   "execution_count": 62,
   "id": "262db31c-5643-45b0-be0b-e614509d1351",
   "metadata": {},
   "outputs": [
    {
     "data": {
      "text/plain": [
       "<Axes: xlabel='MOST_COMMON_WEEKDAY_TO_PURCHASE'>"
      ]
     },
     "execution_count": 62,
     "metadata": {},
     "output_type": "execute_result"
    },
    {
     "data": {
      "image/png": "[encoded data removed]",
      "text/plain": [
       "<Figure size 640x480 with 1 Axes>"
      ]
     },
     "metadata": {},
     "output_type": "display_data"
    }
   ],
   "source": [
    "new_df[\"MOST_COMMON_WEEKDAY_TO_PURCHASE\"].value_counts().sort_index().plot(kind = \"bar\", color = [\"blue\",\"black\",\"red\",\"green\",\"grey\",\"yellow\",\"orange\"])"
   ]
  },
  {
   "cell_type": "markdown",
   "id": "b34ecff6-5cad-424b-8968-554b0ad420c5",
   "metadata": {},
   "source": [
    "Question 16:How many android were purchased?"
   ]
  },
  {
   "cell_type": "code",
   "execution_count": 59,
   "id": "ec6d7924-4352-43b6-927c-1763407be30b",
   "metadata": {},
   "outputs": [
    {
     "data": {
      "text/plain": [
       "9841.0"
      ]
     },
     "execution_count": 59,
     "metadata": {},
     "output_type": "execute_result"
    }
   ],
   "source": [
    "new_df[\"ANDROID_PURCHASES\"].sum()"
   ]
  },
  {
   "cell_type": "markdown",
   "id": "88f10ca3-58d1-4dbe-82a0-660a41729380",
   "metadata": {},
   "source": [
    "Question 17: how many ios were purchases?"
   ]
  },
  {
   "cell_type": "code",
   "execution_count": 60,
   "id": "524bf7a0-8590-497c-92d8-bfa5f2509338",
   "metadata": {},
   "outputs": [
    {
     "ename": "SyntaxError",
     "evalue": "invalid syntax (2872371883.py, line 1)",
     "output_type": "error",
     "traceback": [
      "\u001b[1;36m  Cell \u001b[1;32mIn[60], line 1\u001b[1;36m\u001b[0m\n\u001b[1;33m    new_df[]\u001b[0m\n\u001b[1;37m           ^\u001b[0m\n\u001b[1;31mSyntaxError\u001b[0m\u001b[1;31m:\u001b[0m invalid syntax\n"
     ]
    }
   ],
   "source": [
    "new_df[]"
   ]
  },
  {
   "cell_type": "markdown",
   "id": "b24022cc-a550-44b1-8e3f-8f5e4f41647e",
   "metadata": {},
   "source": [
    "Questin 18: which hour of the day do users purchase things the most?"
   ]
  },
  {
   "cell_type": "code",
   "execution_count": null,
   "id": "570037ec-f0bd-48ba-8e36-48c0780b1362",
   "metadata": {},
   "outputs": [],
   "source": [
    "new_df[\"MOST_COMMON_HOUR_OF_THE_DAY_TO_PURCHASE\"].value_counts()"
   ]
  },
  {
   "cell_type": "code",
   "execution_count": null,
   "id": "3de6bab7-1c12-4678-8fe2-227789478f99",
   "metadata": {},
   "outputs": [],
   "source": [
    "#Question 19: which countrt has the highest customers registered on wolt"
   ]
  },
  {
   "cell_type": "code",
   "execution_count": 63,
   "id": "a4e2f57b-3eb2-48c2-a154-33671d1f4f7b",
   "metadata": {},
   "outputs": [
    {
     "data": {
      "text/plain": [
       "REGISTRATION_COUNTRY\n",
       "FIN    1250\n",
       "DNK    1139\n",
       "GRC      44\n",
       "EST       7\n",
       "CZE       2\n",
       "ISR       2\n",
       "LTU       2\n",
       "LVA       1\n",
       "Name: count, dtype: int64"
      ]
     },
     "execution_count": 63,
     "metadata": {},
     "output_type": "execute_result"
    }
   ],
   "source": [
    "new_df[\"REGISTRATION_COUNTRY\"].value_counts()"
   ]
  },
  {
   "cell_type": "code",
   "execution_count": null,
   "id": "9c022339-cf3e-429d-b2cc-9ac0526bd532",
   "metadata": {},
   "outputs": [],
   "source": []
  }
 ],
 "metadata": {
  "kernelspec": {
   "display_name": "Python 3 (ipykernel)",
   "language": "python",
   "name": "python3"
  },
  "language_info": {
   "codemirror_mode": {
    "name": "ipython",
    "version": 3
   },
   "file_extension": ".py",
   "mimetype": "text/x-python",
   "name": "python",
   "nbconvert_exporter": "python",
   "pygments_lexer": "ipython3",
   "version": "3.12.7"
  }
 },
 "nbformat": 4,
 "nbformat_minor": 5
}
